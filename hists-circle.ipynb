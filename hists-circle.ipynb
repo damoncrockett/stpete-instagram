{
 "cells": [
  {
   "cell_type": "code",
   "execution_count": 1,
   "metadata": {
    "collapsed": true
   },
   "outputs": [],
   "source": [
    "import pandas as pd\n",
    "import numpy as np\n",
    "from shapely.geometry import Point\n",
    "from PIL import Image, ImageDraw\n",
    "import glob\n",
    "import os"
   ]
  },
  {
   "cell_type": "code",
   "execution_count": 2,
   "metadata": {
    "collapsed": true
   },
   "outputs": [],
   "source": [
    "FOLDER = \"/Users/damoncrockett/Desktop/stpete/viz/hists-tsne/\""
   ]
  },
  {
   "cell_type": "code",
   "execution_count": 3,
   "metadata": {
    "collapsed": true
   },
   "outputs": [],
   "source": [
    "df = pd.read_csv(\"./hists_imgs.csv\")"
   ]
  },
  {
   "cell_type": "code",
   "execution_count": 4,
   "metadata": {
    "collapsed": true
   },
   "outputs": [],
   "source": [
    "thumb_side = 128"
   ]
  },
  {
   "cell_type": "code",
   "execution_count": 6,
   "metadata": {
    "collapsed": false
   },
   "outputs": [],
   "source": [
    "d = pd.read_csv(\"./tags_counts_rank.csv\")"
   ]
  },
  {
   "cell_type": "code",
   "execution_count": 8,
   "metadata": {
    "collapsed": false
   },
   "outputs": [],
   "source": [
    "del d['Unnamed: 0']"
   ]
  },
  {
   "cell_type": "code",
   "execution_count": 11,
   "metadata": {
    "collapsed": false
   },
   "outputs": [],
   "source": [
    "d.set_index(\"tag\",inplace=True)\n",
    "df = df.join(d,on='tag')"
   ]
  },
  {
   "cell_type": "code",
   "execution_count": 15,
   "metadata": {
    "collapsed": false
   },
   "outputs": [],
   "source": [
    "df = df[df.local_path.notnull()]"
   ]
  },
  {
   "cell_type": "code",
   "execution_count": 17,
   "metadata": {
    "collapsed": false
   },
   "outputs": [],
   "source": [
    "df.reset_index(drop=True,inplace=True)"
   ]
  },
  {
   "cell_type": "code",
   "execution_count": 33,
   "metadata": {
    "collapsed": true
   },
   "outputs": [],
   "source": [
    "col = 'count'"
   ]
  },
  {
   "cell_type": "code",
   "execution_count": 34,
   "metadata": {
    "collapsed": true
   },
   "outputs": [],
   "source": [
    "tmp = df"
   ]
  },
  {
   "cell_type": "code",
   "execution_count": 35,
   "metadata": {
    "collapsed": false
   },
   "outputs": [],
   "source": [
    "tmp.sort(col,inplace=True,ascending=False)\n",
    "tmp.reset_index(drop=True,inplace=True)\n",
    "n = len(tmp)\n",
    "\n",
    "side = int(round(np.sqrt(n))) + 10\n",
    "canvas = Image.new('RGB',(side * thumb_side, side * thumb_side),(255,255,255))\n",
    "x,y = range(side) * side, np.repeat(range(side),side)\n",
    "grid_list = pd.DataFrame(x,columns=['x'])\n",
    "grid_list['y'] = y\n",
    "\n",
    "point = []\n",
    "l = len(grid_list.index)\n",
    "for i in range(l):\n",
    "    point.append(Point(grid_list.x.loc[i],grid_list.y.loc[i]))\n",
    "grid_list['point'] = point\n",
    "open_grid = list(grid_list.point)\n",
    "\n",
    "exemplar = Point(int(round(side/2)),int(round(side/2)))\n",
    "open_grid.remove(exemplar)\n",
    "\n",
    "for i in range(n):\n",
    "    im = Image.open(tmp.local_path.loc[i])\n",
    "    im.thumbnail((thumb_side,thumb_side),Image.ANTIALIAS)\n",
    "    draw = ImageDraw.Draw(im)\n",
    "    draw.text((5,5),str(tmp[col].loc[i]),fill=(155,155,155))\n",
    "    draw.text((5,115),str(tmp.tag.loc[i]),fill=(155,155,155))\n",
    "    \n",
    "    closest_open = min(open_grid,key=lambda x: exemplar.distance(x))\n",
    "    x = int(closest_open.x) * thumb_side\n",
    "    y = int(closest_open.y) * thumb_side\n",
    "    canvas.paste(im,(x,y))\n",
    "    open_grid.remove(closest_open)\n",
    "\n",
    "canvas.save(FOLDER+col+\".png\")"
   ]
  },
  {
   "cell_type": "code",
   "execution_count": null,
   "metadata": {
    "collapsed": true
   },
   "outputs": [],
   "source": []
  }
 ],
 "metadata": {
  "kernelspec": {
   "display_name": "Python 2",
   "language": "python",
   "name": "python2"
  },
  "language_info": {
   "codemirror_mode": {
    "name": "ipython",
    "version": 2
   },
   "file_extension": ".py",
   "mimetype": "text/x-python",
   "name": "python",
   "nbconvert_exporter": "python",
   "pygments_lexer": "ipython2",
   "version": "2.7.10"
  }
 },
 "nbformat": 4,
 "nbformat_minor": 0
}

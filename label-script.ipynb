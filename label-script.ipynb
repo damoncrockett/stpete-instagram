{
 "cells": [
  {
   "cell_type": "code",
   "execution_count": null,
   "metadata": {
    "collapsed": true
   },
   "outputs": [],
   "source": [
    "# run this at terminal first: export PYTHONPATH=/Library/Python/2.7/site-packages\n",
    "# It's an issue with version of six that gets used"
   ]
  },
  {
   "cell_type": "code",
   "execution_count": null,
   "metadata": {
    "collapsed": true
   },
   "outputs": [],
   "source": [
    "import base64\n",
    "import httplib2\n",
    "from googleapiclient import discovery\n",
    "from oauth2client.service_account import ServiceAccountCredentials\n",
    "\n",
    "cred_file = '/Users/damoncrockett/Desktop/stpete/stpete-cred.json'\n",
    "\n",
    "DISC_URL='https://{api}.googleapis.com/$discovery/rest?version={apiVersion}'\n",
    "creds = ServiceAccountCredentials.from_json_keyfile_name(cred_file)\n",
    "service = discovery.build('vision', 'v1', credentials=creds, discoveryServiceUrl=DISC_URL)\n",
    "\n",
    "import glob\n",
    "import os\n",
    "import pandas as pd\n",
    "\n",
    "DIR = \"/Users/damoncrockett/Desktop/stpete/sample/\"\n",
    "\n",
    "tmp = []\n",
    "for file in glob.glob(os.path.join(DIR,\"*.jpg\")):\n",
    "    tmp.append(file)\n",
    "    \n",
    "df = pd.DataFrame(tmp,columns=[\"local_path\"])\n",
    "n = len(df)\n",
    "\n",
    "labels = []"
   ]
  },
  {
   "cell_type": "code",
   "execution_count": null,
   "metadata": {
    "collapsed": false
   },
   "outputs": [],
   "source": [
    "for i in range(n):\n",
    "    with open(df.local_path.loc[i], 'rb') as image:\n",
    "        image_content = base64.b64encode(image.read())\n",
    "        service_request = service.images().annotate(body={\n",
    "            'requests': [{\n",
    "                'image': {\n",
    "                    'content': image_content.decode('UTF-8')\n",
    "                },\n",
    "                'features': [{\n",
    "                    'type': 'LABEL_DETECTION',\n",
    "                    'maxResults': 1000\n",
    "                }]\n",
    "            }]\n",
    "        })\n",
    "        \n",
    "        response = service_request.execute()\n",
    "        labels.append(response)"
   ]
  },
  {
   "cell_type": "code",
   "execution_count": null,
   "metadata": {
    "collapsed": false
   },
   "outputs": [],
   "source": [
    "len(labels)"
   ]
  },
  {
   "cell_type": "code",
   "execution_count": null,
   "metadata": {
    "collapsed": false
   },
   "outputs": [],
   "source": [
    "df.local_path.loc[0]"
   ]
  },
  {
   "cell_type": "code",
   "execution_count": null,
   "metadata": {
    "collapsed": false
   },
   "outputs": [],
   "source": [
    "labels[0]"
   ]
  },
  {
   "cell_type": "code",
   "execution_count": null,
   "metadata": {
    "collapsed": false
   },
   "outputs": [],
   "source": [
    "labels[1]"
   ]
  },
  {
   "cell_type": "code",
   "execution_count": null,
   "metadata": {
    "collapsed": true
   },
   "outputs": [],
   "source": [
    "num_labels = []"
   ]
  },
  {
   "cell_type": "code",
   "execution_count": null,
   "metadata": {
    "collapsed": false
   },
   "outputs": [],
   "source": [
    "for item in labels:\n",
    "    if item['responses'][0]:\n",
    "        num_labels.append(len(item['responses'][0]['labelAnnotations']))\n",
    "    else:\n",
    "        num_labels.append(0)"
   ]
  },
  {
   "cell_type": "code",
   "execution_count": null,
   "metadata": {
    "collapsed": true
   },
   "outputs": [],
   "source": [
    "from collections import Counter"
   ]
  },
  {
   "cell_type": "code",
   "execution_count": null,
   "metadata": {
    "collapsed": false
   },
   "outputs": [],
   "source": [
    "Counter(num_labels)"
   ]
  },
  {
   "cell_type": "code",
   "execution_count": null,
   "metadata": {
    "collapsed": false
   },
   "outputs": [],
   "source": [
    "for item in labels:\n",
    "    if item['responses'][0]:\n",
    "        print item['responses'][0]['labelAnnotations']\n",
    "    else:\n",
    "        print \"0\""
   ]
  },
  {
   "cell_type": "code",
   "execution_count": null,
   "metadata": {
    "collapsed": true
   },
   "outputs": [],
   "source": [
    "# Ok here we go:"
   ]
  },
  {
   "cell_type": "code",
   "execution_count": null,
   "metadata": {
    "collapsed": true
   },
   "outputs": [],
   "source": [
    "tmp = []\n",
    "for file in glob.glob(os.path.join(DIR,\"*.jpg\")):\n",
    "    tmp.append(file)\n",
    "    \n",
    "df = pd.DataFrame(tmp,columns=[\"local_path\"])\n",
    "n = len(df)\n",
    "\n",
    "labels = []"
   ]
  },
  {
   "cell_type": "code",
   "execution_count": null,
   "metadata": {
    "collapsed": false
   },
   "outputs": [],
   "source": [
    "df.info()"
   ]
  },
  {
   "cell_type": "code",
   "execution_count": null,
   "metadata": {
    "collapsed": true
   },
   "outputs": [],
   "source": [
    "breaks = [100,500,1000,5000,10000,15000,20000,25000,30000,35000,40000,45000]"
   ]
  },
  {
   "cell_type": "code",
   "execution_count": null,
   "metadata": {
    "collapsed": false
   },
   "outputs": [],
   "source": [
    "for i in range(n):\n",
    "    \n",
    "    try:\n",
    "        with open(df.local_path.loc[i], 'rb') as image:\n",
    "            image_content = base64.b64encode(image.read())\n",
    "            service_request = service.images().annotate(body={\n",
    "                'requests': [{\n",
    "                    'image': {\n",
    "                        'content': image_content.decode('UTF-8')\n",
    "                    },\n",
    "                    'features': [{\n",
    "                        'type': 'LABEL_DETECTION',\n",
    "                        'maxResults': 1000\n",
    "                    }]\n",
    "                }]\n",
    "            })\n",
    "\n",
    "            response = service_request.execute()\n",
    "            labels.append(response['responses'][0]['labelAnnotations'])\n",
    "            \n",
    "    except:\n",
    "        labels.append(\"nresp\")\n",
    "        \n",
    "    if i in breaks:\n",
    "        print i"
   ]
  },
  {
   "cell_type": "code",
   "execution_count": null,
   "metadata": {
    "collapsed": true
   },
   "outputs": [],
   "source": [
    "df['labels'] = labels\n",
    "df.to_csv(\"./tmp.csv\",index=False)"
   ]
  },
  {
   "cell_type": "code",
   "execution_count": null,
   "metadata": {
    "collapsed": false
   },
   "outputs": [],
   "source": [
    "df['labels'].loc[0]"
   ]
  },
  {
   "cell_type": "code",
   "execution_count": null,
   "metadata": {
    "collapsed": false
   },
   "outputs": [],
   "source": [
    "tag_score = []\n",
    "\n",
    "for i in range(len(df)):\n",
    "    label_list = df['labels'].loc[i]\n",
    "    if label_list == \"nresp\":\n",
    "        tag_score.append(\"nresp\")\n",
    "    else:\n",
    "        tag_score_list = [item[\"description\"]+\":\"+str(item[\"score\"]) for item in label_list]\n",
    "        tag_score.append(tag_score_list)"
   ]
  },
  {
   "cell_type": "code",
   "execution_count": null,
   "metadata": {
    "collapsed": false
   },
   "outputs": [],
   "source": [
    "df['tag_score'] = tag_score"
   ]
  },
  {
   "cell_type": "code",
   "execution_count": null,
   "metadata": {
    "collapsed": true
   },
   "outputs": [],
   "source": [
    "del df['labels']"
   ]
  },
  {
   "cell_type": "code",
   "execution_count": null,
   "metadata": {
    "collapsed": false
   },
   "outputs": [],
   "source": [
    "df.to_csv(\"./tmp_tmp.csv\",index=False)"
   ]
  },
  {
   "cell_type": "code",
   "execution_count": null,
   "metadata": {
    "collapsed": false
   },
   "outputs": [],
   "source": [
    "tag_list = list(df.tag_score[df.tag_score!=\"nresp\"])"
   ]
  },
  {
   "cell_type": "code",
   "execution_count": null,
   "metadata": {
    "collapsed": false
   },
   "outputs": [],
   "source": [
    "tag_list = [[item for sublist in tag_list for item in sublist]]"
   ]
  },
  {
   "cell_type": "code",
   "execution_count": null,
   "metadata": {
    "collapsed": false
   },
   "outputs": [],
   "source": [
    "tag_list = tag_list[0]"
   ]
  },
  {
   "cell_type": "code",
   "execution_count": null,
   "metadata": {
    "collapsed": false
   },
   "outputs": [],
   "source": [
    "tag_list = [item.split(\":\")[0] for item in tag_list]"
   ]
  },
  {
   "cell_type": "code",
   "execution_count": null,
   "metadata": {
    "collapsed": false
   },
   "outputs": [],
   "source": [
    "tag_set = list(set(tag_list))"
   ]
  },
  {
   "cell_type": "code",
   "execution_count": null,
   "metadata": {
    "collapsed": false
   },
   "outputs": [],
   "source": [
    "len(tag_set)"
   ]
  },
  {
   "cell_type": "code",
   "execution_count": null,
   "metadata": {
    "collapsed": false
   },
   "outputs": [],
   "source": [
    "tags = pd.DataFrame(tag_set,columns=['tag'])"
   ]
  },
  {
   "cell_type": "code",
   "execution_count": null,
   "metadata": {
    "collapsed": false
   },
   "outputs": [],
   "source": [
    "counts = []\n",
    "for item in tags.tag:\n",
    "    num_occur = tag_list.count(item)\n",
    "    counts.append(num_occur)\n",
    "\n",
    "tags['count'] = counts"
   ]
  },
  {
   "cell_type": "code",
   "execution_count": null,
   "metadata": {
    "collapsed": false
   },
   "outputs": [],
   "source": [
    "tags_sorted = tags.sort(\"count\",ascending=False)"
   ]
  },
  {
   "cell_type": "code",
   "execution_count": null,
   "metadata": {
    "collapsed": false
   },
   "outputs": [],
   "source": [
    "tags_sorted.to_csv(\"./tags_counts.csv\",index=False,encoding=\"utf-8\")"
   ]
  },
  {
   "cell_type": "code",
   "execution_count": null,
   "metadata": {
    "collapsed": false
   },
   "outputs": [],
   "source": [
    "num_tags = []\n",
    "for item in df.tag_score:\n",
    "    if item==\"nresp\":\n",
    "        num_tags.append(0)\n",
    "    else:\n",
    "        num_tags.append(len(item))"
   ]
  },
  {
   "cell_type": "code",
   "execution_count": null,
   "metadata": {
    "collapsed": false
   },
   "outputs": [],
   "source": [
    "max(num_tags)"
   ]
  },
  {
   "cell_type": "code",
   "execution_count": null,
   "metadata": {
    "collapsed": false
   },
   "outputs": [],
   "source": [
    "df"
   ]
  }
 ],
 "metadata": {
  "kernelspec": {
   "display_name": "Python 2",
   "language": "python",
   "name": "python2"
  },
  "language_info": {
   "codemirror_mode": {
    "name": "ipython",
    "version": 2
   },
   "file_extension": ".py",
   "mimetype": "text/x-python",
   "name": "python",
   "nbconvert_exporter": "python",
   "pygments_lexer": "ipython2",
   "version": "2.7.10"
  }
 },
 "nbformat": 4,
 "nbformat_minor": 0
}

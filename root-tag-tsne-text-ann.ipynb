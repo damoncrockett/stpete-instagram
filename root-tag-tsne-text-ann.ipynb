{
 "cells": [
  {
   "cell_type": "code",
   "execution_count": 1,
   "metadata": {
    "collapsed": true
   },
   "outputs": [],
   "source": [
    "import pandas as pd\n",
    "import numpy as np"
   ]
  },
  {
   "cell_type": "code",
   "execution_count": 2,
   "metadata": {
    "collapsed": true
   },
   "outputs": [],
   "source": [
    "tag_counts = pd.read_csv(\"./tags_counts_rank.csv\")"
   ]
  },
  {
   "cell_type": "code",
   "execution_count": 3,
   "metadata": {
    "collapsed": false
   },
   "outputs": [],
   "source": [
    "df = tag_counts[tag_counts['count'] > 1000].sort(\"avg_rank\") # only top tags"
   ]
  },
  {
   "cell_type": "code",
   "execution_count": 4,
   "metadata": {
    "collapsed": false
   },
   "outputs": [],
   "source": [
    "df.reset_index(drop=True,inplace=True)"
   ]
  },
  {
   "cell_type": "code",
   "execution_count": 5,
   "metadata": {
    "collapsed": false
   },
   "outputs": [],
   "source": [
    "d = pd.read_csv(\"./X.csv\")"
   ]
  },
  {
   "cell_type": "code",
   "execution_count": 6,
   "metadata": {
    "collapsed": true
   },
   "outputs": [],
   "source": [
    "from sklearn.manifold import TSNE as tsne\n",
    "from PIL import Image, ImageDraw"
   ]
  },
  {
   "cell_type": "code",
   "execution_count": 7,
   "metadata": {
    "collapsed": true
   },
   "outputs": [],
   "source": [
    "thumb_side = 96 # publication size"
   ]
  },
  {
   "cell_type": "markdown",
   "metadata": {},
   "source": [
    "## Fill"
   ]
  },
  {
   "cell_type": "code",
   "execution_count": 8,
   "metadata": {
    "collapsed": true
   },
   "outputs": [],
   "source": [
    "from shapely.geometry import Point"
   ]
  },
  {
   "cell_type": "code",
   "execution_count": 9,
   "metadata": {
    "collapsed": true
   },
   "outputs": [],
   "source": [
    "crit = np.sqrt(2) # adjacency"
   ]
  },
  {
   "cell_type": "code",
   "execution_count": 10,
   "metadata": {
    "collapsed": true
   },
   "outputs": [],
   "source": [
    "PRE = \"/Users/damoncrockett/Desktop/stpete/viz/tag_fill_crit_alldims_text-ann/\""
   ]
  },
  {
   "cell_type": "code",
   "execution_count": 11,
   "metadata": {
    "collapsed": false
   },
   "outputs": [],
   "source": [
    "for tag in list(df.tag):\n",
    "    tmp = d[d[tag]!=0]\n",
    "    tmp.reset_index(drop=True,inplace=True)\n",
    "    tmp = tmp[tmp.columns[(tmp != 0).any()]] # eliminating all zero columns\n",
    "    dims = str(len(tmp.columns)-1)\n",
    "    \n",
    "    num_bin = 3 * int(round( np.sqrt( len(tmp) / np.pi ) )) # circle that fits square, fill 'factor'==3\n",
    "    \n",
    "    X = tmp.iloc[:,1:].as_matrix()\n",
    "    tsne_obj = tsne(n_components=2)\n",
    "    \n",
    "    subspace_tsne = pd.DataFrame(tsne_obj.fit_transform(X),columns=[\"x\",\"y\"])\n",
    "    subspace_tsne['grid_x'] = pd.cut(subspace_tsne['x'],num_bin,labels=False)\n",
    "    subspace_tsne['grid_y'] = pd.cut(subspace_tsne['y'],num_bin,labels=False)\n",
    "    subspace_tsne['local_path'] = tmp.local_path\n",
    "    \n",
    "    grid_side = num_bin \n",
    "    px_w = thumb_side * grid_side\n",
    "    px_h = thumb_side * grid_side\n",
    "    \n",
    "    x,y = range(grid_side) * grid_side, np.repeat(range(grid_side),grid_side)\n",
    "    grid_list = pd.DataFrame(x,columns=['x'])\n",
    "    grid_list['y'] = y\n",
    "    \n",
    "    point = []\n",
    "    for i in range(len(grid_list)):\n",
    "        point.append(Point(grid_list.x.loc[i],grid_list.y.loc[i]))\n",
    "\n",
    "    grid_list['point'] = point\n",
    "        \n",
    "    open_grid = list(grid_list.point)\n",
    "    canvas = Image.new('RGB',(px_w,px_h),(50,50,50))\n",
    "    plotted_dict = {}\n",
    "\n",
    "    plotted = 0\n",
    "    for i in np.random.permutation(np.arange(np.round(len(subspace_tsne)))):\n",
    "        im = Image.open(subspace_tsne.local_path.loc[i])\n",
    "        im.thumbnail((thumb_side,thumb_side),Image.ANTIALIAS)\n",
    "        x = subspace_tsne.grid_x.loc[i] * thumb_side \n",
    "        y = subspace_tsne.grid_y.loc[i] * thumb_side \n",
    "        grid_point = Point((subspace_tsne.grid_x.loc[i],subspace_tsne.grid_y.loc[i]))\n",
    "\n",
    "        if grid_point in open_grid:\n",
    "            canvas.paste(im,(x,y))\n",
    "            open_grid.remove(grid_point)\n",
    "            plotted_dict[grid_point] = subspace_tsne.local_path.loc[i]\n",
    "            plotted+=1\n",
    "\n",
    "        elif len(open_grid) == 0:\n",
    "            break\n",
    "\n",
    "        else:\n",
    "            closest_open = min(open_grid,key=lambda x: grid_point.distance(x))\n",
    "            if grid_point.distance(closest_open) <= crit: # adjacency criterion\n",
    "                x = int(closest_open.x) * thumb_side\n",
    "                y = int(closest_open.y) * thumb_side\n",
    "                canvas.paste(im,(x,y))\n",
    "                open_grid.remove(closest_open)\n",
    "                plotted_dict[closest_open] = subspace_tsne.local_path.loc[i]\n",
    "                plotted+=1\n",
    "\n",
    "    tagged=0\n",
    "    for grid_point in plotted_dict:         \n",
    "        closest_open = min(open_grid,key=lambda x: grid_point.distance(x))\n",
    "        if grid_point.distance(closest_open) == 1: # strict adjacency          \n",
    "            local_path = plotted_dict[grid_point]\n",
    "            tmp = d[d.local_path==local_path]\n",
    "            tmp = tmp[tmp.columns[(tmp != 0).any()]].iloc[:,1:]\n",
    "            \n",
    "            template = Image.new(\"RGB\", (thumb_side, thumb_side), (50,50,50))\n",
    "            draw = ImageDraw.Draw(template)\n",
    "            \n",
    "            h = 5\n",
    "            while h <= 80:\n",
    "                for col in list(tmp.columns):\n",
    "                    draw.text((5,h),col+\"_\"+str(np.round(tmp[col].iloc[0],2)),fill=(150,150,150)) # muted\n",
    "                    h+=15\n",
    "            \n",
    "            if grid_point.x > closest_open.x:\n",
    "                draw.rectangle([(90,55),(96,61)],outline=\"yellow\",fill=\"yellow\")\n",
    "            if grid_point.x < closest_open.x:\n",
    "                draw.rectangle([(0,55),(6,61)],outline=\"yellow\",fill=\"yellow\")\n",
    "            if grid_point.y < closest_open.y:\n",
    "                draw.rectangle([(55,0),(61,6)],outline=\"yellow\",fill=\"yellow\")\n",
    "            if grid_point.y > closest_open.y:\n",
    "                draw.rectangle([(55,90),(61,96)],outline=\"yellow\",fill=\"yellow\")\n",
    "            \n",
    "            x = int(closest_open.x) * thumb_side\n",
    "            y = int(closest_open.y) * thumb_side\n",
    "            canvas.paste(template,(x,y))\n",
    "            open_grid.remove(closest_open)\n",
    "            \n",
    "            tagged+=1\n",
    "    \n",
    "    tag_prop = str(np.round(float(tagged)/plotted,2)).lstrip(\".\")\n",
    "    prop = str(int(round(plotted*100/len(subspace_tsne))))\n",
    "    canvas.save(PRE+tag+\"_\"+str(num_bin)+\"_\"+prop+\"_\"+dims+\"_\"+str(plotted)+\"_\"+str(tagged)+\"_\"+tag_prop+\".png\")"
   ]
  }
 ],
 "metadata": {
  "kernelspec": {
   "display_name": "Python 2",
   "language": "python",
   "name": "python2"
  },
  "language_info": {
   "codemirror_mode": {
    "name": "ipython",
    "version": 2
   },
   "file_extension": ".py",
   "mimetype": "text/x-python",
   "name": "python",
   "nbconvert_exporter": "python",
   "pygments_lexer": "ipython2",
   "version": "2.7.10"
  }
 },
 "nbformat": 4,
 "nbformat_minor": 0
}

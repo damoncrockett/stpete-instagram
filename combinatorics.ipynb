{
 "cells": [
  {
   "cell_type": "code",
   "execution_count": null,
   "metadata": {
    "collapsed": true
   },
   "outputs": [],
   "source": [
    "import pandas as pd\n",
    "import numpy as np\n",
    "from collections import Counter"
   ]
  },
  {
   "cell_type": "code",
   "execution_count": null,
   "metadata": {
    "collapsed": true
   },
   "outputs": [],
   "source": [
    "df = pd.read_csv(\"./X.csv\")"
   ]
  },
  {
   "cell_type": "code",
   "execution_count": null,
   "metadata": {
    "collapsed": true
   },
   "outputs": [],
   "source": [
    "seq_list = []\n",
    "for i in range(len(df)):\n",
    "    seq_list.append(list(df.loc[i][df.loc[i]!=0][1:].sort(axis=1,inplace=False,ascending=False).index))"
   ]
  },
  {
   "cell_type": "code",
   "execution_count": null,
   "metadata": {
    "collapsed": false
   },
   "outputs": [],
   "source": [
    "'''\n",
    "def bigram_generator(tag_list):\n",
    "    m = len(tag_list)\n",
    "    ngram_strings = []\n",
    "    for i in range(m-1):\n",
    "        partners = range(i+1,m)\n",
    "        ngram_strings.append([tag_list[i]+\"_\"+tag_list[j] for j in partners])\n",
    "    return ngram_strings\n",
    "'''"
   ]
  },
  {
   "cell_type": "code",
   "execution_count": null,
   "metadata": {
    "collapsed": true
   },
   "outputs": [],
   "source": [
    "#ngram_list = [item for item in seq_list if len(item) > 1]"
   ]
  },
  {
   "cell_type": "code",
   "execution_count": null,
   "metadata": {
    "collapsed": false
   },
   "outputs": [],
   "source": [
    "'''\n",
    "bigrams = [bigram_generator(item) for item in ngram_list]\n",
    "bigrams = [item for sublist in [item for sublist in bigrams for item in sublist] for item in sublist]\n",
    "bigram_df = pd.DataFrame([item[0] for item in Counter(bigrams).most_common()],columns=['bigram'])\n",
    "bigram_df['frequency'] = [item[1] for item in Counter(bigrams).most_common()]\n",
    "bigram_df.to_csv(\"./bigrams.csv\",index=False)\n",
    "'''"
   ]
  },
  {
   "cell_type": "markdown",
   "metadata": {},
   "source": [
    "#### General solution using sets, random choice, and provided we know magnitude 'n choose k'"
   ]
  },
  {
   "cell_type": "code",
   "execution_count": null,
   "metadata": {
    "collapsed": false
   },
   "outputs": [],
   "source": [
    "from scipy.misc import comb\n",
    "from numpy.random import choice"
   ]
  },
  {
   "cell_type": "code",
   "execution_count": null,
   "metadata": {
    "collapsed": true
   },
   "outputs": [],
   "source": [
    "def kset(l,k):\n",
    "    n = len(l)\n",
    "    n_comb = comb(n,k,exact=True)\n",
    "    counter=0\n",
    "    combos = []\n",
    "    while counter < n_comb:\n",
    "        selection = set(choice(l,k,replace=False))\n",
    "        if selection not in combos:\n",
    "            combos.append(selection)\n",
    "            counter+=1\n",
    "    return combos"
   ]
  },
  {
   "cell_type": "code",
   "execution_count": null,
   "metadata": {
    "collapsed": false
   },
   "outputs": [],
   "source": [
    "def kset_strings(l,k):\n",
    "    kset_string_list = []\n",
    "    for item in kset(l,k):\n",
    "        item = list(item)\n",
    "        m = len(item)\n",
    "        for i in range(m):\n",
    "            if i==0:\n",
    "                tmp = item[i]\n",
    "            else:\n",
    "                tmp = tmp+\"_\"+item[i]\n",
    "        kset_string_list.append(tmp)\n",
    "    return kset_string_list"
   ]
  },
  {
   "cell_type": "code",
   "execution_count": null,
   "metadata": {
    "collapsed": true
   },
   "outputs": [],
   "source": [
    "k = 3"
   ]
  },
  {
   "cell_type": "code",
   "execution_count": null,
   "metadata": {
    "collapsed": true
   },
   "outputs": [],
   "source": [
    "breaks = [100,500,1000,5000,10000,15000,20000,25000,30000,35000,40000,45000]"
   ]
  },
  {
   "cell_type": "code",
   "execution_count": null,
   "metadata": {
    "collapsed": false
   },
   "outputs": [],
   "source": [
    "trigrams = []\n",
    "counter=-1\n",
    "for seq in seq_list:\n",
    "    counter+=1\n",
    "    if counter in breaks:\n",
    "        print counter\n",
    "    if len(seq) >= k:\n",
    "        trigrams.append(kset_strings(seq,k))"
   ]
  },
  {
   "cell_type": "code",
   "execution_count": null,
   "metadata": {
    "collapsed": true
   },
   "outputs": [],
   "source": [
    "tmp = [item for sublist in trigrams for item in sublist]\n",
    "df = pd.DataFrame([item[0] for item in Counter(tmp).most_common()],columns=['trigram'])\n",
    "df['frequency'] = [item[1] for item in Counter(tmp).most_common()]\n",
    "df.to_csv(\"./\"+str(k)+\"grams.csv\",index=False)"
   ]
  },
  {
   "cell_type": "markdown",
   "metadata": {},
   "source": [
    "#### quad"
   ]
  },
  {
   "cell_type": "code",
   "execution_count": null,
   "metadata": {
    "collapsed": false
   },
   "outputs": [],
   "source": [
    "k = 4"
   ]
  },
  {
   "cell_type": "code",
   "execution_count": null,
   "metadata": {
    "collapsed": false
   },
   "outputs": [],
   "source": [
    "quadgrams = []\n",
    "counter=-1\n",
    "for seq in seq_list:\n",
    "    counter+=1\n",
    "    if counter in breaks:\n",
    "        print counter\n",
    "    if len(seq) >= k:\n",
    "        quadgrams.append(kset_strings(seq,k))"
   ]
  },
  {
   "cell_type": "code",
   "execution_count": null,
   "metadata": {
    "collapsed": true
   },
   "outputs": [],
   "source": [
    "tmp = [item for sublist in quadgrams for item in sublist]\n",
    "df = pd.DataFrame([item[0] for item in Counter(tmp).most_common()],columns=['trigram'])\n",
    "df['frequency'] = [item[1] for item in Counter(tmp).most_common()]\n",
    "df.to_csv(\"./\"+str(k)+\"grams.csv\",index=False)"
   ]
  },
  {
   "cell_type": "markdown",
   "metadata": {
    "collapsed": true
   },
   "source": [
    "#### quint"
   ]
  },
  {
   "cell_type": "code",
   "execution_count": null,
   "metadata": {
    "collapsed": true
   },
   "outputs": [],
   "source": [
    "k = 5"
   ]
  },
  {
   "cell_type": "code",
   "execution_count": null,
   "metadata": {
    "collapsed": false
   },
   "outputs": [],
   "source": [
    "quintgrams = []\n",
    "counter=-1\n",
    "for seq in seq_list:\n",
    "    counter+=1\n",
    "    if counter in breaks:\n",
    "        print counter\n",
    "    if len(seq) >= k:\n",
    "        quintgrams.append(kset_strings(seq,k))"
   ]
  },
  {
   "cell_type": "code",
   "execution_count": null,
   "metadata": {
    "collapsed": true
   },
   "outputs": [],
   "source": [
    "tmp = [item for sublist in quintgrams for item in sublist]\n",
    "df = pd.DataFrame([item[0] for item in Counter(tmp).most_common()],columns=['quintgram'])\n",
    "df['frequency'] = [item[1] for item in Counter(tmp).most_common()]\n",
    "df.to_csv(\"./\"+str(k)+\"grams.csv\",index=False)"
   ]
  },
  {
   "cell_type": "code",
   "execution_count": null,
   "metadata": {
    "collapsed": false
   },
   "outputs": [],
   "source": [
    "df[df.frequency>9].to_csv(\"./\"+str(k)+\"grams_truncated.csv\",index=False)"
   ]
  },
  {
   "cell_type": "code",
   "execution_count": null,
   "metadata": {
    "collapsed": true
   },
   "outputs": [],
   "source": []
  },
  {
   "cell_type": "markdown",
   "metadata": {
    "collapsed": true
   },
   "source": [
    "#### sext"
   ]
  },
  {
   "cell_type": "code",
   "execution_count": null,
   "metadata": {
    "collapsed": true
   },
   "outputs": [],
   "source": [
    "k = 6"
   ]
  },
  {
   "cell_type": "code",
   "execution_count": null,
   "metadata": {
    "collapsed": false
   },
   "outputs": [],
   "source": [
    "sextgrams = []\n",
    "counter=-1\n",
    "for seq in seq_list:\n",
    "    counter+=1\n",
    "    if counter in breaks:\n",
    "        print counter\n",
    "    if len(seq) >= k:\n",
    "        sextgrams.append(kset_strings(seq,k))"
   ]
  },
  {
   "cell_type": "code",
   "execution_count": null,
   "metadata": {
    "collapsed": true
   },
   "outputs": [],
   "source": [
    "tmp = [item for sublist in sextgrams for item in sublist]\n",
    "df = pd.DataFrame([item[0] for item in Counter(tmp).most_common()],columns=['sextgram'])\n",
    "df['frequency'] = [item[1] for item in Counter(tmp).most_common()]"
   ]
  },
  {
   "cell_type": "code",
   "execution_count": null,
   "metadata": {
    "collapsed": true
   },
   "outputs": [],
   "source": [
    "#df.to_csv(\"./\"+str(k)+\"grams.csv\",index=False)"
   ]
  }
 ],
 "metadata": {
  "kernelspec": {
   "display_name": "Python 2",
   "language": "python",
   "name": "python2"
  },
  "language_info": {
   "codemirror_mode": {
    "name": "ipython",
    "version": 2
   },
   "file_extension": ".py",
   "mimetype": "text/x-python",
   "name": "python",
   "nbconvert_exporter": "python",
   "pygments_lexer": "ipython2",
   "version": "2.7.10"
  }
 },
 "nbformat": 4,
 "nbformat_minor": 0
}

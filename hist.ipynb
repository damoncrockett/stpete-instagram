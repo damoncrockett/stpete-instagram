{
 "cells": [
  {
   "cell_type": "code",
   "execution_count": 1,
   "metadata": {
    "collapsed": true
   },
   "outputs": [],
   "source": [
    "import pandas as pd\n",
    "import numpy as np"
   ]
  },
  {
   "cell_type": "code",
   "execution_count": 2,
   "metadata": {
    "collapsed": true
   },
   "outputs": [],
   "source": [
    "d = pd.read_csv(\"./X.csv\")"
   ]
  },
  {
   "cell_type": "code",
   "execution_count": 3,
   "metadata": {
    "collapsed": false
   },
   "outputs": [],
   "source": [
    "d = d.iloc[:,1:]"
   ]
  },
  {
   "cell_type": "code",
   "execution_count": 4,
   "metadata": {
    "collapsed": false
   },
   "outputs": [],
   "source": [
    "all_num = []\n",
    "for col in d.columns:\n",
    "    tmp = d[col][d[col]!=0]\n",
    "    for item in tmp:\n",
    "        all_num.append(item)"
   ]
  },
  {
   "cell_type": "code",
   "execution_count": 5,
   "metadata": {
    "collapsed": false
   },
   "outputs": [
    {
     "data": {
      "text/plain": [
       "261072"
      ]
     },
     "execution_count": 5,
     "metadata": {},
     "output_type": "execute_result"
    }
   ],
   "source": [
    "len(all_num)"
   ]
  },
  {
   "cell_type": "code",
   "execution_count": 6,
   "metadata": {
    "collapsed": true
   },
   "outputs": [],
   "source": [
    "t = pd.read_csv(\"./tags_counts_rank.csv\")"
   ]
  },
  {
   "cell_type": "code",
   "execution_count": 7,
   "metadata": {
    "collapsed": false
   },
   "outputs": [
    {
     "data": {
      "text/plain": [
       "261290"
      ]
     },
     "execution_count": 7,
     "metadata": {},
     "output_type": "execute_result"
    }
   ],
   "source": [
    "sum(t['count'])"
   ]
  },
  {
   "cell_type": "code",
   "execution_count": 8,
   "metadata": {
    "collapsed": false
   },
   "outputs": [
    {
     "data": {
      "text/plain": [
       "3882"
      ]
     },
     "execution_count": 8,
     "metadata": {},
     "output_type": "execute_result"
    }
   ],
   "source": [
    "len(t)"
   ]
  },
  {
   "cell_type": "code",
   "execution_count": 9,
   "metadata": {
    "collapsed": false
   },
   "outputs": [
    {
     "name": "stdout",
     "output_type": "stream",
     "text": [
      "<class 'pandas.core.frame.DataFrame'>\n",
      "Int64Index: 47410 entries, 0 to 47409\n",
      "Columns: 3882 entries, person to tapir\n",
      "dtypes: float64(3882)\n",
      "memory usage: 1.4 GB\n"
     ]
    }
   ],
   "source": [
    "d.info()"
   ]
  },
  {
   "cell_type": "code",
   "execution_count": 10,
   "metadata": {
    "collapsed": true
   },
   "outputs": [],
   "source": [
    "freq = []\n",
    "for col in d.columns:\n",
    "    tmp = d[col][d[col]!=0]\n",
    "    freq.append(len(tmp))"
   ]
  },
  {
   "cell_type": "code",
   "execution_count": 11,
   "metadata": {
    "collapsed": false
   },
   "outputs": [
    {
     "data": {
      "text/plain": [
       "261072"
      ]
     },
     "execution_count": 11,
     "metadata": {},
     "output_type": "execute_result"
    }
   ],
   "source": [
    "sum(freq)"
   ]
  },
  {
   "cell_type": "code",
   "execution_count": 12,
   "metadata": {
    "collapsed": false
   },
   "outputs": [
    {
     "data": {
      "text/plain": [
       "{362}"
      ]
     },
     "execution_count": 12,
     "metadata": {},
     "output_type": "execute_result"
    }
   ],
   "source": [
    "set(list(t['count'])) - set(freq)"
   ]
  },
  {
   "cell_type": "code",
   "execution_count": 13,
   "metadata": {
    "collapsed": false
   },
   "outputs": [
    {
     "data": {
      "text/plain": [
       "0.50000124999999995"
      ]
     },
     "execution_count": 13,
     "metadata": {},
     "output_type": "execute_result"
    }
   ],
   "source": [
    "min(all_num)"
   ]
  },
  {
   "cell_type": "code",
   "execution_count": 14,
   "metadata": {
    "collapsed": false
   },
   "outputs": [
    {
     "data": {
      "text/plain": [
       "0.9941411"
      ]
     },
     "execution_count": 14,
     "metadata": {},
     "output_type": "execute_result"
    }
   ],
   "source": [
    "max(all_num)"
   ]
  },
  {
   "cell_type": "code",
   "execution_count": 15,
   "metadata": {
    "collapsed": true
   },
   "outputs": [],
   "source": [
    "%matplotlib inline"
   ]
  },
  {
   "cell_type": "code",
   "execution_count": 16,
   "metadata": {
    "collapsed": false
   },
   "outputs": [
    {
     "data": {
      "text/plain": [
       "array([[<matplotlib.axes._subplots.AxesSubplot object at 0x1127815d0>]], dtype=object)"
      ]
     },
     "execution_count": 16,
     "metadata": {},
     "output_type": "execute_result"
    },
    {
     "data": {
      "image/png": "[encoded data removed]",
      "text/plain": [
       "<matplotlib.figure.Figure at 0x112778fd0>"
      ]
     },
     "metadata": {},
     "output_type": "display_data"
    }
   ],
   "source": [
    "pd.DataFrame(all_num).hist()"
   ]
  },
  {
   "cell_type": "code",
   "execution_count": 17,
   "metadata": {
    "collapsed": true
   },
   "outputs": [],
   "source": [
    "tmp = pd.DataFrame(all_num,columns=['value'])"
   ]
  },
  {
   "cell_type": "code",
   "execution_count": 18,
   "metadata": {
    "collapsed": true
   },
   "outputs": [],
   "source": [
    "tmp.to_csv(\"./scores_all.csv\",index=False)"
   ]
  },
  {
   "cell_type": "code",
   "execution_count": 19,
   "metadata": {
    "collapsed": false
   },
   "outputs": [],
   "source": [
    "tags = t[t['count'] > 50]"
   ]
  },
  {
   "cell_type": "code",
   "execution_count": 20,
   "metadata": {
    "collapsed": false
   },
   "outputs": [],
   "source": [
    "del tags['Unnamed: 0']"
   ]
  },
  {
   "cell_type": "code",
   "execution_count": 21,
   "metadata": {
    "collapsed": false
   },
   "outputs": [
    {
     "data": {
      "text/plain": [
       "array([ 0.5,  0.6,  0.7,  0.8,  0.9,  1. ,  1.1])"
      ]
     },
     "execution_count": 21,
     "metadata": {},
     "output_type": "execute_result"
    }
   ],
   "source": [
    "np.arange(0.5,1.1,.1)"
   ]
  },
  {
   "cell_type": "code",
   "execution_count": 22,
   "metadata": {
    "collapsed": false
   },
   "outputs": [],
   "source": [
    "vectors = []\n",
    "\n",
    "for tag in tags.tag:\n",
    "    vector = []\n",
    "    tmp = d[tag][d[tag]!=0]\n",
    "    tmp = pd.cut(tmp,np.arange(0.5,1.1,.1),labels=False)\n",
    "    \n",
    "    for i in range(5):\n",
    "        vector.append(sum(tmp==i))\n",
    "    \n",
    "    vectors.append(vector)"
   ]
  },
  {
   "cell_type": "code",
   "execution_count": 23,
   "metadata": {
    "collapsed": false
   },
   "outputs": [],
   "source": [
    "hists = pd.DataFrame(np.vstack(vectors))"
   ]
  },
  {
   "cell_type": "code",
   "execution_count": 24,
   "metadata": {
    "collapsed": false
   },
   "outputs": [],
   "source": [
    "def inf_norm(x):\n",
    "    return x/max(x)"
   ]
  },
  {
   "cell_type": "code",
   "execution_count": 25,
   "metadata": {
    "collapsed": false
   },
   "outputs": [],
   "source": [
    "hists_normed = hists.apply(inf_norm,axis=1)"
   ]
  },
  {
   "cell_type": "code",
   "execution_count": 26,
   "metadata": {
    "collapsed": false
   },
   "outputs": [],
   "source": [
    "hists_normed['tag'] = tags.tag"
   ]
  },
  {
   "cell_type": "code",
   "execution_count": 27,
   "metadata": {
    "collapsed": false
   },
   "outputs": [],
   "source": [
    "hists_normed.to_csv(\"./hists.csv\",index=False)"
   ]
  },
  {
   "cell_type": "code",
   "execution_count": 28,
   "metadata": {
    "collapsed": false
   },
   "outputs": [],
   "source": [
    "import glob\n",
    "import os"
   ]
  },
  {
   "cell_type": "code",
   "execution_count": 29,
   "metadata": {
    "collapsed": true
   },
   "outputs": [],
   "source": [
    "DIR = \"/Users/damoncrockett/Desktop/stpete/viz/hists/\""
   ]
  },
  {
   "cell_type": "code",
   "execution_count": 30,
   "metadata": {
    "collapsed": true
   },
   "outputs": [],
   "source": [
    "imgs = []\n",
    "for file in glob.glob(os.path.join(DIR,\"*.jpg\")):\n",
    "    imgs.append(file)"
   ]
  },
  {
   "cell_type": "code",
   "execution_count": 31,
   "metadata": {
    "collapsed": false
   },
   "outputs": [],
   "source": [
    "tmp = pd.DataFrame(imgs,columns=['local_path'])"
   ]
  },
  {
   "cell_type": "code",
   "execution_count": 32,
   "metadata": {
    "collapsed": true
   },
   "outputs": [],
   "source": [
    "tmp['tag'] = tmp.local_path.map(lambda x: os.path.basename(x)[:-4])"
   ]
  },
  {
   "cell_type": "code",
   "execution_count": 33,
   "metadata": {
    "collapsed": false
   },
   "outputs": [],
   "source": [
    "tmp.set_index(\"tag\",inplace=True)"
   ]
  },
  {
   "cell_type": "code",
   "execution_count": 34,
   "metadata": {
    "collapsed": false
   },
   "outputs": [],
   "source": [
    "hists_normed = hists_normed.join(tmp,on='tag')"
   ]
  },
  {
   "cell_type": "code",
   "execution_count": 35,
   "metadata": {
    "collapsed": false
   },
   "outputs": [],
   "source": [
    "hists_normed.to_csv(\"./hists_imgs.csv\",index=False)"
   ]
  },
  {
   "cell_type": "code",
   "execution_count": 40,
   "metadata": {
    "collapsed": false
   },
   "outputs": [
    {
     "data": {
      "text/plain": [
       "['/Users/damoncrockett/Desktop/stpete/viz/hists/abdomen.jpg',\n",
       " '/Users/damoncrockett/Desktop/stpete/viz/hists/acoustic guitar.jpg',\n",
       " '/Users/damoncrockett/Desktop/stpete/viz/hists/acrylic paint.jpg',\n",
       " '/Users/damoncrockett/Desktop/stpete/viz/hists/action figure.jpg',\n",
       " '/Users/damoncrockett/Desktop/stpete/viz/hists/adventure.jpg',\n",
       " '/Users/damoncrockett/Desktop/stpete/viz/hists/advertising.jpg',\n",
       " '/Users/damoncrockett/Desktop/stpete/viz/hists/afterglow.jpg',\n",
       " '/Users/damoncrockett/Desktop/stpete/viz/hists/air force.jpg',\n",
       " '/Users/damoncrockett/Desktop/stpete/viz/hists/air travel.jpg',\n",
       " '/Users/damoncrockett/Desktop/stpete/viz/hists/aircraft.jpg',\n",
       " '/Users/damoncrockett/Desktop/stpete/viz/hists/airline.jpg',\n",
       " '/Users/damoncrockett/Desktop/stpete/viz/hists/airliner.jpg',\n",
       " '/Users/damoncrockett/Desktop/stpete/viz/hists/airplane.jpg',\n",
       " '/Users/damoncrockett/Desktop/stpete/viz/hists/airport terminal.jpg',\n",
       " '/Users/damoncrockett/Desktop/stpete/viz/hists/airport.jpg',\n",
       " '/Users/damoncrockett/Desktop/stpete/viz/hists/aisle.jpg',\n",
       " '/Users/damoncrockett/Desktop/stpete/viz/hists/album cover.jpg',\n",
       " '/Users/damoncrockett/Desktop/stpete/viz/hists/album.jpg',\n",
       " '/Users/damoncrockett/Desktop/stpete/viz/hists/alcohol.jpg',\n",
       " '/Users/damoncrockett/Desktop/stpete/viz/hists/alcoholic beverage.jpg',\n",
       " '/Users/damoncrockett/Desktop/stpete/viz/hists/american shorthair.jpg',\n",
       " '/Users/damoncrockett/Desktop/stpete/viz/hists/amusement park.jpg',\n",
       " '/Users/damoncrockett/Desktop/stpete/viz/hists/amusement ride.jpg',\n",
       " '/Users/damoncrockett/Desktop/stpete/viz/hists/ancient history.jpg',\n",
       " '/Users/damoncrockett/Desktop/stpete/viz/hists/animal.jpg',\n",
       " '/Users/damoncrockett/Desktop/stpete/viz/hists/anime.jpg',\n",
       " '/Users/damoncrockett/Desktop/stpete/viz/hists/antique.jpg',\n",
       " '/Users/damoncrockett/Desktop/stpete/viz/hists/aqua.jpg',\n",
       " '/Users/damoncrockett/Desktop/stpete/viz/hists/arcade.jpg',\n",
       " '/Users/damoncrockett/Desktop/stpete/viz/hists/arch.jpg',\n",
       " '/Users/damoncrockett/Desktop/stpete/viz/hists/architecture.jpg',\n",
       " '/Users/damoncrockett/Desktop/stpete/viz/hists/arctic ocean.jpg',\n",
       " '/Users/damoncrockett/Desktop/stpete/viz/hists/arctic.jpg',\n",
       " '/Users/damoncrockett/Desktop/stpete/viz/hists/area.jpg',\n",
       " '/Users/damoncrockett/Desktop/stpete/viz/hists/arena.jpg',\n",
       " '/Users/damoncrockett/Desktop/stpete/viz/hists/arm.jpg',\n",
       " '/Users/damoncrockett/Desktop/stpete/viz/hists/art.jpg',\n",
       " '/Users/damoncrockett/Desktop/stpete/viz/hists/artificial flower.jpg',\n",
       " '/Users/damoncrockett/Desktop/stpete/viz/hists/artificial hair integrations.jpg',\n",
       " '/Users/damoncrockett/Desktop/stpete/viz/hists/artwork.jpg',\n",
       " '/Users/damoncrockett/Desktop/stpete/viz/hists/asian food.jpg',\n",
       " '/Users/damoncrockett/Desktop/stpete/viz/hists/asphalt.jpg',\n",
       " '/Users/damoncrockett/Desktop/stpete/viz/hists/astronomical object.jpg',\n",
       " '/Users/damoncrockett/Desktop/stpete/viz/hists/athlete.jpg',\n",
       " '/Users/damoncrockett/Desktop/stpete/viz/hists/athletics.jpg',\n",
       " '/Users/damoncrockett/Desktop/stpete/viz/hists/atmosphere of earth.jpg',\n",
       " '/Users/damoncrockett/Desktop/stpete/viz/hists/atmosphere.jpg',\n",
       " '/Users/damoncrockett/Desktop/stpete/viz/hists/atmospheric phenomenon.jpg',\n",
       " '/Users/damoncrockett/Desktop/stpete/viz/hists/audience.jpg',\n",
       " '/Users/damoncrockett/Desktop/stpete/viz/hists/auditorium.jpg',\n",
       " '/Users/damoncrockett/Desktop/stpete/viz/hists/auto racing.jpg',\n",
       " '/Users/damoncrockett/Desktop/stpete/viz/hists/automobile.jpg',\n",
       " '/Users/damoncrockett/Desktop/stpete/viz/hists/autumn.jpg',\n",
       " '/Users/damoncrockett/Desktop/stpete/viz/hists/bag.jpg',\n",
       " '/Users/damoncrockett/Desktop/stpete/viz/hists/baggage.jpg',\n",
       " '/Users/damoncrockett/Desktop/stpete/viz/hists/baked goods.jpg',\n",
       " '/Users/damoncrockett/Desktop/stpete/viz/hists/ball game.jpg',\n",
       " '/Users/damoncrockett/Desktop/stpete/viz/hists/ballet.jpg',\n",
       " '/Users/damoncrockett/Desktop/stpete/viz/hists/balloon.jpg',\n",
       " '/Users/damoncrockett/Desktop/stpete/viz/hists/bangs.jpg',\n",
       " '/Users/damoncrockett/Desktop/stpete/viz/hists/banner.jpg',\n",
       " '/Users/damoncrockett/Desktop/stpete/viz/hists/banquet.jpg',\n",
       " '/Users/damoncrockett/Desktop/stpete/viz/hists/barbie.jpg',\n",
       " '/Users/damoncrockett/Desktop/stpete/viz/hists/basilica.jpg',\n",
       " '/Users/damoncrockett/Desktop/stpete/viz/hists/bass guitar.jpg',\n",
       " '/Users/damoncrockett/Desktop/stpete/viz/hists/bassist.jpg',\n",
       " '/Users/damoncrockett/Desktop/stpete/viz/hists/bay.jpg',\n",
       " '/Users/damoncrockett/Desktop/stpete/viz/hists/beach.jpg',\n",
       " '/Users/damoncrockett/Desktop/stpete/viz/hists/bead.jpg',\n",
       " '/Users/damoncrockett/Desktop/stpete/viz/hists/beard.jpg',\n",
       " '/Users/damoncrockett/Desktop/stpete/viz/hists/beauty.jpg',\n",
       " '/Users/damoncrockett/Desktop/stpete/viz/hists/bedding.jpg',\n",
       " '/Users/damoncrockett/Desktop/stpete/viz/hists/beer.jpg',\n",
       " '/Users/damoncrockett/Desktop/stpete/viz/hists/bengal.jpg',\n",
       " '/Users/damoncrockett/Desktop/stpete/viz/hists/berry.jpg',\n",
       " '/Users/damoncrockett/Desktop/stpete/viz/hists/bicycle.jpg',\n",
       " '/Users/damoncrockett/Desktop/stpete/viz/hists/biology.jpg',\n",
       " '/Users/damoncrockett/Desktop/stpete/viz/hists/bird.jpg',\n",
       " '/Users/damoncrockett/Desktop/stpete/viz/hists/birthday cake.jpg',\n",
       " '/Users/damoncrockett/Desktop/stpete/viz/hists/black and white.jpg',\n",
       " '/Users/damoncrockett/Desktop/stpete/viz/hists/black cat.jpg',\n",
       " '/Users/damoncrockett/Desktop/stpete/viz/hists/black hair.jpg',\n",
       " '/Users/damoncrockett/Desktop/stpete/viz/hists/black.jpg',\n",
       " '/Users/damoncrockett/Desktop/stpete/viz/hists/blizzard.jpg',\n",
       " '/Users/damoncrockett/Desktop/stpete/viz/hists/blond.jpg',\n",
       " '/Users/damoncrockett/Desktop/stpete/viz/hists/blossom.jpg',\n",
       " '/Users/damoncrockett/Desktop/stpete/viz/hists/blouse.jpg',\n",
       " '/Users/damoncrockett/Desktop/stpete/viz/hists/blue and white porcelain.jpg',\n",
       " '/Users/damoncrockett/Desktop/stpete/viz/hists/blue.jpg',\n",
       " '/Users/damoncrockett/Desktop/stpete/viz/hists/boardwalk.jpg',\n",
       " '/Users/damoncrockett/Desktop/stpete/viz/hists/boat.jpg',\n",
       " '/Users/damoncrockett/Desktop/stpete/viz/hists/boating.jpg',\n",
       " '/Users/damoncrockett/Desktop/stpete/viz/hists/bob cut.jpg',\n",
       " '/Users/damoncrockett/Desktop/stpete/viz/hists/body of water.jpg',\n",
       " '/Users/damoncrockett/Desktop/stpete/viz/hists/boeing 767.jpg',\n",
       " '/Users/damoncrockett/Desktop/stpete/viz/hists/book.jpg',\n",
       " '/Users/damoncrockett/Desktop/stpete/viz/hists/bowed string instrument.jpg',\n",
       " '/Users/damoncrockett/Desktop/stpete/viz/hists/boxing ring.jpg',\n",
       " '/Users/damoncrockett/Desktop/stpete/viz/hists/boxing.jpg',\n",
       " '/Users/damoncrockett/Desktop/stpete/viz/hists/branch.jpg',\n",
       " '/Users/damoncrockett/Desktop/stpete/viz/hists/brazilian jiu jitsu.jpg',\n",
       " '/Users/damoncrockett/Desktop/stpete/viz/hists/breakfast.jpg',\n",
       " '/Users/damoncrockett/Desktop/stpete/viz/hists/bride.jpg',\n",
       " '/Users/damoncrockett/Desktop/stpete/viz/hists/bridesmaid.jpg',\n",
       " '/Users/damoncrockett/Desktop/stpete/viz/hists/bridge.jpg',\n",
       " '/Users/damoncrockett/Desktop/stpete/viz/hists/brown hair.jpg',\n",
       " '/Users/damoncrockett/Desktop/stpete/viz/hists/brown.jpg',\n",
       " '/Users/damoncrockett/Desktop/stpete/viz/hists/brunch.jpg',\n",
       " '/Users/damoncrockett/Desktop/stpete/viz/hists/buffet.jpg',\n",
       " '/Users/damoncrockett/Desktop/stpete/viz/hists/building.jpg',\n",
       " '/Users/damoncrockett/Desktop/stpete/viz/hists/bumper.jpg',\n",
       " '/Users/damoncrockett/Desktop/stpete/viz/hists/business.jpg',\n",
       " '/Users/damoncrockett/Desktop/stpete/viz/hists/cable car.jpg',\n",
       " '/Users/damoncrockett/Desktop/stpete/viz/hists/cable stayed bridge.jpg',\n",
       " '/Users/damoncrockett/Desktop/stpete/viz/hists/cake.jpg',\n",
       " '/Users/damoncrockett/Desktop/stpete/viz/hists/camera.jpg',\n",
       " '/Users/damoncrockett/Desktop/stpete/viz/hists/canal.jpg',\n",
       " '/Users/damoncrockett/Desktop/stpete/viz/hists/cappuccino.jpg',\n",
       " '/Users/damoncrockett/Desktop/stpete/viz/hists/car seat.jpg',\n",
       " '/Users/damoncrockett/Desktop/stpete/viz/hists/cargo ship.jpg',\n",
       " '/Users/damoncrockett/Desktop/stpete/viz/hists/carnivoran.jpg',\n",
       " '/Users/damoncrockett/Desktop/stpete/viz/hists/cartoon.jpg',\n",
       " '/Users/damoncrockett/Desktop/stpete/viz/hists/cash.jpg',\n",
       " '/Users/damoncrockett/Desktop/stpete/viz/hists/cat like mammal.jpg',\n",
       " '/Users/damoncrockett/Desktop/stpete/viz/hists/cat.jpg',\n",
       " '/Users/damoncrockett/Desktop/stpete/viz/hists/cathedral.jpg',\n",
       " '/Users/damoncrockett/Desktop/stpete/viz/hists/ceiling.jpg',\n",
       " '/Users/damoncrockett/Desktop/stpete/viz/hists/cello.jpg',\n",
       " '/Users/damoncrockett/Desktop/stpete/viz/hists/centrepiece.jpg',\n",
       " '/Users/damoncrockett/Desktop/stpete/viz/hists/chair.jpg',\n",
       " '/Users/damoncrockett/Desktop/stpete/viz/hists/chandelier.jpg',\n",
       " '/Users/damoncrockett/Desktop/stpete/viz/hists/chapel.jpg',\n",
       " '/Users/damoncrockett/Desktop/stpete/viz/hists/cheek.jpg',\n",
       " '/Users/damoncrockett/Desktop/stpete/viz/hists/chest.jpg',\n",
       " '/Users/damoncrockett/Desktop/stpete/viz/hists/chihuahua.jpg',\n",
       " '/Users/damoncrockett/Desktop/stpete/viz/hists/child.jpg',\n",
       " '/Users/damoncrockett/Desktop/stpete/viz/hists/chin.jpg',\n",
       " '/Users/damoncrockett/Desktop/stpete/viz/hists/christmas decoration.jpg',\n",
       " '/Users/damoncrockett/Desktop/stpete/viz/hists/christmas lights.jpg',\n",
       " '/Users/damoncrockett/Desktop/stpete/viz/hists/christmas ornament.jpg',\n",
       " '/Users/damoncrockett/Desktop/stpete/viz/hists/christmas tree.jpg',\n",
       " '/Users/damoncrockett/Desktop/stpete/viz/hists/christmas.jpg',\n",
       " '/Users/damoncrockett/Desktop/stpete/viz/hists/circle.jpg',\n",
       " '/Users/damoncrockett/Desktop/stpete/viz/hists/city.jpg',\n",
       " '/Users/damoncrockett/Desktop/stpete/viz/hists/cityscape.jpg',\n",
       " '/Users/damoncrockett/Desktop/stpete/viz/hists/class.jpg',\n",
       " '/Users/damoncrockett/Desktop/stpete/viz/hists/classic car.jpg',\n",
       " '/Users/damoncrockett/Desktop/stpete/viz/hists/clock tower.jpg',\n",
       " '/Users/damoncrockett/Desktop/stpete/viz/hists/close up.jpg',\n",
       " '/Users/damoncrockett/Desktop/stpete/viz/hists/clothing.jpg',\n",
       " '/Users/damoncrockett/Desktop/stpete/viz/hists/cloud.jpg',\n",
       " '/Users/damoncrockett/Desktop/stpete/viz/hists/coast.jpg',\n",
       " '/Users/damoncrockett/Desktop/stpete/viz/hists/coat.jpg',\n",
       " '/Users/damoncrockett/Desktop/stpete/viz/hists/cockapoo.jpg',\n",
       " '/Users/damoncrockett/Desktop/stpete/viz/hists/cocktail dress.jpg',\n",
       " '/Users/damoncrockett/Desktop/stpete/viz/hists/cocktail.jpg',\n",
       " '/Users/damoncrockett/Desktop/stpete/viz/hists/coffee cup.jpg',\n",
       " '/Users/damoncrockett/Desktop/stpete/viz/hists/coffee.jpg',\n",
       " '/Users/damoncrockett/Desktop/stpete/viz/hists/coin purse.jpg',\n",
       " '/Users/damoncrockett/Desktop/stpete/viz/hists/collage.jpg',\n",
       " '/Users/damoncrockett/Desktop/stpete/viz/hists/color.jpg',\n",
       " '/Users/damoncrockett/Desktop/stpete/viz/hists/combat sport.jpg',\n",
       " '/Users/damoncrockett/Desktop/stpete/viz/hists/comics.jpg',\n",
       " '/Users/damoncrockett/Desktop/stpete/viz/hists/community.jpg',\n",
       " '/Users/damoncrockett/Desktop/stpete/viz/hists/compact car.jpg',\n",
       " '/Users/damoncrockett/Desktop/stpete/viz/hists/compact disc.jpg',\n",
       " '/Users/damoncrockett/Desktop/stpete/viz/hists/concert.jpg',\n",
       " '/Users/damoncrockett/Desktop/stpete/viz/hists/condominium.jpg',\n",
       " '/Users/damoncrockett/Desktop/stpete/viz/hists/construction.jpg',\n",
       " '/Users/damoncrockett/Desktop/stpete/viz/hists/contact sport.jpg',\n",
       " '/Users/damoncrockett/Desktop/stpete/viz/hists/cooking.jpg',\n",
       " '/Users/damoncrockett/Desktop/stpete/viz/hists/cosmetics.jpg',\n",
       " '/Users/damoncrockett/Desktop/stpete/viz/hists/costume.jpg',\n",
       " '/Users/damoncrockett/Desktop/stpete/viz/hists/cottage.jpg',\n",
       " '/Users/damoncrockett/Desktop/stpete/viz/hists/coupe\\xcc\\x81.jpg',\n",
       " '/Users/damoncrockett/Desktop/stpete/viz/hists/course.jpg',\n",
       " '/Users/damoncrockett/Desktop/stpete/viz/hists/courthouse.jpg',\n",
       " '/Users/damoncrockett/Desktop/stpete/viz/hists/crop.jpg',\n",
       " '/Users/damoncrockett/Desktop/stpete/viz/hists/crowd.jpg',\n",
       " '/Users/damoncrockett/Desktop/stpete/viz/hists/cumulus.jpg',\n",
       " '/Users/damoncrockett/Desktop/stpete/viz/hists/currency.jpg',\n",
       " '/Users/damoncrockett/Desktop/stpete/viz/hists/curtain.jpg',\n",
       " '/Users/damoncrockett/Desktop/stpete/viz/hists/cut flowers.jpg',\n",
       " '/Users/damoncrockett/Desktop/stpete/viz/hists/daisy family.jpg',\n",
       " '/Users/damoncrockett/Desktop/stpete/viz/hists/dance.jpg',\n",
       " '/Users/damoncrockett/Desktop/stpete/viz/hists/darkness.jpg',\n",
       " '/Users/damoncrockett/Desktop/stpete/viz/hists/daughter.jpg',\n",
       " '/Users/damoncrockett/Desktop/stpete/viz/hists/dawn.jpg',\n",
       " '/Users/damoncrockett/Desktop/stpete/viz/hists/denim.jpg',\n",
       " '/Users/damoncrockett/Desktop/stpete/viz/hists/dessert.jpg',\n",
       " '/Users/damoncrockett/Desktop/stpete/viz/hists/diagram.jpg',\n",
       " '/Users/damoncrockett/Desktop/stpete/viz/hists/dianthus.jpg',\n",
       " '/Users/damoncrockett/Desktop/stpete/viz/hists/diaper bag.jpg',\n",
       " '/Users/damoncrockett/Desktop/stpete/viz/hists/dinner.jpg',\n",
       " '/Users/damoncrockett/Desktop/stpete/viz/hists/disco.jpg',\n",
       " '/Users/damoncrockett/Desktop/stpete/viz/hists/dish.jpg',\n",
       " '/Users/damoncrockett/Desktop/stpete/viz/hists/distilled beverage.jpg',\n",
       " '/Users/damoncrockett/Desktop/stpete/viz/hists/dock.jpg',\n",
       " '/Users/damoncrockett/Desktop/stpete/viz/hists/document.jpg',\n",
       " '/Users/damoncrockett/Desktop/stpete/viz/hists/dog breed group.jpg',\n",
       " '/Users/damoncrockett/Desktop/stpete/viz/hists/dog breed.jpg',\n",
       " '/Users/damoncrockett/Desktop/stpete/viz/hists/dog.jpg',\n",
       " '/Users/damoncrockett/Desktop/stpete/viz/hists/doll.jpg',\n",
       " '/Users/damoncrockett/Desktop/stpete/viz/hists/dome.jpg',\n",
       " '/Users/damoncrockett/Desktop/stpete/viz/hists/domestic short haired cat.jpg',\n",
       " '/Users/damoncrockett/Desktop/stpete/viz/hists/door.jpg',\n",
       " '/Users/damoncrockett/Desktop/stpete/viz/hists/downtown.jpg',\n",
       " '/Users/damoncrockett/Desktop/stpete/viz/hists/drawing.jpg',\n",
       " '/Users/damoncrockett/Desktop/stpete/viz/hists/dress.jpg',\n",
       " '/Users/damoncrockett/Desktop/stpete/viz/hists/drink.jpg',\n",
       " '/Users/damoncrockett/Desktop/stpete/viz/hists/drinkware.jpg',\n",
       " '/Users/damoncrockett/Desktop/stpete/viz/hists/driving.jpg',\n",
       " '/Users/damoncrockett/Desktop/stpete/viz/hists/drum.jpg',\n",
       " '/Users/damoncrockett/Desktop/stpete/viz/hists/dusk.jpg',\n",
       " '/Users/damoncrockett/Desktop/stpete/viz/hists/ear.jpg',\n",
       " '/Users/damoncrockett/Desktop/stpete/viz/hists/eating.jpg',\n",
       " '/Users/damoncrockett/Desktop/stpete/viz/hists/education.jpg',\n",
       " '/Users/damoncrockett/Desktop/stpete/viz/hists/electronics.jpg',\n",
       " '/Users/damoncrockett/Desktop/stpete/viz/hists/emblem.jpg',\n",
       " '/Users/damoncrockett/Desktop/stpete/viz/hists/emotion.jpg',\n",
       " '/Users/damoncrockett/Desktop/stpete/viz/hists/energy drink.jpg',\n",
       " '/Users/damoncrockett/Desktop/stpete/viz/hists/energy.jpg',\n",
       " '/Users/damoncrockett/Desktop/stpete/viz/hists/entertainment.jpg',\n",
       " '/Users/damoncrockett/Desktop/stpete/viz/hists/estate.jpg',\n",
       " '/Users/damoncrockett/Desktop/stpete/viz/hists/european shorthair.jpg',\n",
       " '/Users/damoncrockett/Desktop/stpete/viz/hists/event.jpg',\n",
       " '/Users/damoncrockett/Desktop/stpete/viz/hists/eye glass accessory.jpg',\n",
       " '/Users/damoncrockett/Desktop/stpete/viz/hists/eye.jpg',\n",
       " '/Users/damoncrockett/Desktop/stpete/viz/hists/eyebrow.jpg',\n",
       " '/Users/damoncrockett/Desktop/stpete/viz/hists/eyelash.jpg',\n",
       " '/Users/damoncrockett/Desktop/stpete/viz/hists/eyewear.jpg',\n",
       " '/Users/damoncrockett/Desktop/stpete/viz/hists/facade.jpg',\n",
       " '/Users/damoncrockett/Desktop/stpete/viz/hists/facial expression.jpg',\n",
       " '/Users/damoncrockett/Desktop/stpete/viz/hists/facial hair.jpg',\n",
       " '/Users/damoncrockett/Desktop/stpete/viz/hists/family car.jpg',\n",
       " '/Users/damoncrockett/Desktop/stpete/viz/hists/family.jpg',\n",
       " '/Users/damoncrockett/Desktop/stpete/viz/hists/farm.jpg',\n",
       " '/Users/damoncrockett/Desktop/stpete/viz/hists/farmhouse.jpg',\n",
       " '/Users/damoncrockett/Desktop/stpete/viz/hists/fashion accessory.jpg',\n",
       " '/Users/damoncrockett/Desktop/stpete/viz/hists/fault.jpg',\n",
       " '/Users/damoncrockett/Desktop/stpete/viz/hists/fauna.jpg',\n",
       " '/Users/damoncrockett/Desktop/stpete/viz/hists/ferry.jpg',\n",
       " '/Users/damoncrockett/Desktop/stpete/viz/hists/festival.jpg',\n",
       " '/Users/damoncrockett/Desktop/stpete/viz/hists/field.jpg',\n",
       " '/Users/damoncrockett/Desktop/stpete/viz/hists/figurine.jpg',\n",
       " '/Users/damoncrockett/Desktop/stpete/viz/hists/film noir.jpg',\n",
       " '/Users/damoncrockett/Desktop/stpete/viz/hists/film.jpg',\n",
       " '/Users/damoncrockett/Desktop/stpete/viz/hists/finger.jpg',\n",
       " '/Users/damoncrockett/Desktop/stpete/viz/hists/fireworks.jpg',\n",
       " '/Users/damoncrockett/Desktop/stpete/viz/hists/fish.jpg',\n",
       " '/Users/damoncrockett/Desktop/stpete/viz/hists/flat panel display.jpg',\n",
       " '/Users/damoncrockett/Desktop/stpete/viz/hists/flight.jpg',\n",
       " '/Users/damoncrockett/Desktop/stpete/viz/hists/floor.jpg',\n",
       " '/Users/damoncrockett/Desktop/stpete/viz/hists/flooring.jpg',\n",
       " '/Users/damoncrockett/Desktop/stpete/viz/hists/floral design.jpg',\n",
       " '/Users/damoncrockett/Desktop/stpete/viz/hists/floristry.jpg',\n",
       " '/Users/damoncrockett/Desktop/stpete/viz/hists/flower bouquet.jpg',\n",
       " '/Users/damoncrockett/Desktop/stpete/viz/hists/flower.jpg',\n",
       " '/Users/damoncrockett/Desktop/stpete/viz/hists/flowering plant.jpg',\n",
       " '/Users/damoncrockett/Desktop/stpete/viz/hists/flyer.jpg',\n",
       " '/Users/damoncrockett/Desktop/stpete/viz/hists/fog.jpg',\n",
       " '/Users/damoncrockett/Desktop/stpete/viz/hists/font.jpg',\n",
       " '/Users/damoncrockett/Desktop/stpete/viz/hists/food.jpg',\n",
       " '/Users/damoncrockett/Desktop/stpete/viz/hists/football player.jpg',\n",
       " '/Users/damoncrockett/Desktop/stpete/viz/hists/footwear.jpg',\n",
       " '/Users/damoncrockett/Desktop/stpete/viz/hists/forehead.jpg',\n",
       " '/Users/damoncrockett/Desktop/stpete/viz/hists/forest.jpg',\n",
       " '/Users/damoncrockett/Desktop/stpete/viz/hists/formal wear.jpg',\n",
       " '/Users/damoncrockett/Desktop/stpete/viz/hists/fractal art.jpg',\n",
       " '/Users/damoncrockett/Desktop/stpete/viz/hists/freight transport.jpg',\n",
       " '/Users/damoncrockett/Desktop/stpete/viz/hists/frost.jpg',\n",
       " '/Users/damoncrockett/Desktop/stpete/viz/hists/fruit.jpg',\n",
       " '/Users/damoncrockett/Desktop/stpete/viz/hists/fur.jpg',\n",
       " '/Users/damoncrockett/Desktop/stpete/viz/hists/furniture.jpg',\n",
       " '/Users/damoncrockett/Desktop/stpete/viz/hists/gadget.jpg',\n",
       " '/Users/damoncrockett/Desktop/stpete/viz/hists/games.jpg',\n",
       " '/Users/damoncrockett/Desktop/stpete/viz/hists/garden roses.jpg',\n",
       " '/Users/damoncrockett/Desktop/stpete/viz/hists/gemstone.jpg',\n",
       " '/Users/damoncrockett/Desktop/stpete/viz/hists/gentleman.jpg',\n",
       " '/Users/damoncrockett/Desktop/stpete/viz/hists/geological phenomenon.jpg',\n",
       " '/Users/damoncrockett/Desktop/stpete/viz/hists/gift.jpg',\n",
       " '/Users/damoncrockett/Desktop/stpete/viz/hists/girl.jpg',\n",
       " '/Users/damoncrockett/Desktop/stpete/viz/hists/glass.jpg',\n",
       " '/Users/damoncrockett/Desktop/stpete/viz/hists/glasses.jpg',\n",
       " '/Users/damoncrockett/Desktop/stpete/viz/hists/goggles.jpg',\n",
       " '/Users/damoncrockett/Desktop/stpete/viz/hists/gown.jpg',\n",
       " '/Users/damoncrockett/Desktop/stpete/viz/hists/graffiti.jpg',\n",
       " '/Users/damoncrockett/Desktop/stpete/viz/hists/graphic design.jpg',\n",
       " '/Users/damoncrockett/Desktop/stpete/viz/hists/grass.jpg',\n",
       " '/Users/damoncrockett/Desktop/stpete/viz/hists/griffon bruxellois.jpg',\n",
       " '/Users/damoncrockett/Desktop/stpete/viz/hists/groom.jpg',\n",
       " '/Users/damoncrockett/Desktop/stpete/viz/hists/guitar.jpg',\n",
       " '/Users/damoncrockett/Desktop/stpete/viz/hists/guitarist.jpg',\n",
       " '/Users/damoncrockett/Desktop/stpete/viz/hists/habitat.jpg',\n",
       " '/Users/damoncrockett/Desktop/stpete/viz/hists/hacienda.jpg',\n",
       " '/Users/damoncrockett/Desktop/stpete/viz/hists/hair coloring.jpg',\n",
       " '/Users/damoncrockett/Desktop/stpete/viz/hists/hair.jpg',\n",
       " '/Users/damoncrockett/Desktop/stpete/viz/hists/hairstyle.jpg',\n",
       " '/Users/damoncrockett/Desktop/stpete/viz/hists/hand.jpg',\n",
       " '/Users/damoncrockett/Desktop/stpete/viz/hists/handbag.jpg',\n",
       " '/Users/damoncrockett/Desktop/stpete/viz/hists/handwriting.jpg',\n",
       " '/Users/damoncrockett/Desktop/stpete/viz/hists/harbor.jpg',\n",
       " '/Users/damoncrockett/Desktop/stpete/viz/hists/hat.jpg',\n",
       " '/Users/damoncrockett/Desktop/stpete/viz/hists/haze.jpg',\n",
       " '/Users/damoncrockett/Desktop/stpete/viz/hists/head.jpg',\n",
       " '/Users/damoncrockett/Desktop/stpete/viz/hists/headgear.jpg',\n",
       " '/Users/damoncrockett/Desktop/stpete/viz/hists/heart.jpg',\n",
       " '/Users/damoncrockett/Desktop/stpete/viz/hists/herb.jpg',\n",
       " '/Users/damoncrockett/Desktop/stpete/viz/hists/highway.jpg',\n",
       " '/Users/damoncrockett/Desktop/stpete/viz/hists/hime cut.jpg',\n",
       " '/Users/damoncrockett/Desktop/stpete/viz/hists/holiday.jpg',\n",
       " '/Users/damoncrockett/Desktop/stpete/viz/hists/home accessories.jpg',\n",
       " '/Users/damoncrockett/Desktop/stpete/viz/hists/home appliance.jpg',\n",
       " '/Users/damoncrockett/Desktop/stpete/viz/hists/home.jpg',\n",
       " '/Users/damoncrockett/Desktop/stpete/viz/hists/hood.jpg',\n",
       " '/Users/damoncrockett/Desktop/stpete/viz/hists/horizon.jpg',\n",
       " '/Users/damoncrockett/Desktop/stpete/viz/hists/hors d oeuvre.jpg',\n",
       " '/Users/damoncrockett/Desktop/stpete/viz/hists/human action.jpg',\n",
       " '/Users/damoncrockett/Desktop/stpete/viz/hists/human hair color.jpg',\n",
       " '/Users/damoncrockett/Desktop/stpete/viz/hists/human leg.jpg',\n",
       " '/Users/damoncrockett/Desktop/stpete/viz/hists/human positions.jpg',\n",
       " '/Users/damoncrockett/Desktop/stpete/viz/hists/ice cream.jpg',\n",
       " '/Users/damoncrockett/Desktop/stpete/viz/hists/ice rink.jpg',\n",
       " '/Users/damoncrockett/Desktop/stpete/viz/hists/ice skating.jpg',\n",
       " '/Users/damoncrockett/Desktop/stpete/viz/hists/ice.jpg',\n",
       " '/Users/damoncrockett/Desktop/stpete/viz/hists/icing.jpg',\n",
       " '/Users/damoncrockett/Desktop/stpete/viz/hists/illustration.jpg',\n",
       " '/Users/damoncrockett/Desktop/stpete/viz/hists/image.jpg',\n",
       " '/Users/damoncrockett/Desktop/stpete/viz/hists/infant.jpg',\n",
       " '/Users/damoncrockett/Desktop/stpete/viz/hists/inflatable.jpg',\n",
       " '/Users/damoncrockett/Desktop/stpete/viz/hists/input device.jpg',\n",
       " '/Users/damoncrockett/Desktop/stpete/viz/hists/interior design.jpg',\n",
       " '/Users/damoncrockett/Desktop/stpete/viz/hists/invertebrate.jpg',\n",
       " '/Users/damoncrockett/Desktop/stpete/viz/hists/jacket.jpg',\n",
       " '/Users/damoncrockett/Desktop/stpete/viz/hists/jaw.jpg',\n",
       " '/Users/damoncrockett/Desktop/stpete/viz/hists/jeans.jpg',\n",
       " '/Users/damoncrockett/Desktop/stpete/viz/hists/jersey.jpg',\n",
       " '/Users/damoncrockett/Desktop/stpete/viz/hists/jet aircraft.jpg',\n",
       " '/Users/damoncrockett/Desktop/stpete/viz/hists/jewellery.jpg',\n",
       " '/Users/damoncrockett/Desktop/stpete/viz/hists/jumping.jpg',\n",
       " '/Users/damoncrockett/Desktop/stpete/viz/hists/keyboard.jpg',\n",
       " '/Users/damoncrockett/Desktop/stpete/viz/hists/kitten.jpg',\n",
       " '/Users/damoncrockett/Desktop/stpete/viz/hists/kue.jpg',\n",
       " '/Users/damoncrockett/Desktop/stpete/viz/hists/label.jpg',\n",
       " '/Users/damoncrockett/Desktop/stpete/viz/hists/lady.jpg',\n",
       " '/Users/damoncrockett/Desktop/stpete/viz/hists/lake.jpg',\n",
       " '/Users/damoncrockett/Desktop/stpete/viz/hists/lamp.jpg',\n",
       " '/Users/damoncrockett/Desktop/stpete/viz/hists/land vehicle.jpg',\n",
       " '/Users/damoncrockett/Desktop/stpete/viz/hists/landform.jpg',\n",
       " '/Users/damoncrockett/Desktop/stpete/viz/hists/landmark.jpg',\n",
       " '/Users/damoncrockett/Desktop/stpete/viz/hists/lane.jpg',\n",
       " '/Users/damoncrockett/Desktop/stpete/viz/hists/laser.jpg',\n",
       " '/Users/damoncrockett/Desktop/stpete/viz/hists/latte.jpg',\n",
       " '/Users/damoncrockett/Desktop/stpete/viz/hists/laughter.jpg',\n",
       " '/Users/damoncrockett/Desktop/stpete/viz/hists/lavender.jpg',\n",
       " '/Users/damoncrockett/Desktop/stpete/viz/hists/lawn.jpg',\n",
       " '/Users/damoncrockett/Desktop/stpete/viz/hists/layered hair.jpg',\n",
       " '/Users/damoncrockett/Desktop/stpete/viz/hists/leaf.jpg',\n",
       " '/Users/damoncrockett/Desktop/stpete/viz/hists/leather.jpg',\n",
       " '/Users/damoncrockett/Desktop/stpete/viz/hists/leg.jpg',\n",
       " '/Users/damoncrockett/Desktop/stpete/viz/hists/leisure.jpg',\n",
       " '/Users/damoncrockett/Desktop/stpete/viz/hists/lens flare.jpg',\n",
       " '/Users/damoncrockett/Desktop/stpete/viz/hists/light fixture.jpg',\n",
       " '/Users/damoncrockett/Desktop/stpete/viz/hists/light.jpg',\n",
       " '/Users/damoncrockett/Desktop/stpete/viz/hists/lighting.jpg',\n",
       " '/Users/damoncrockett/Desktop/stpete/viz/hists/lilac.jpg',\n",
       " '/Users/damoncrockett/Desktop/stpete/viz/hists/lily family.jpg',\n",
       " '/Users/damoncrockett/Desktop/stpete/viz/hists/linens.jpg',\n",
       " '/Users/damoncrockett/Desktop/stpete/viz/hists/lingerie.jpg',\n",
       " '/Users/damoncrockett/Desktop/stpete/viz/hists/lip.jpg',\n",
       " '/Users/damoncrockett/Desktop/stpete/viz/hists/liqueur.jpg',\n",
       " '/Users/damoncrockett/Desktop/stpete/viz/hists/lobby.jpg',\n",
       " '/Users/damoncrockett/Desktop/stpete/viz/hists/loch.jpg',\n",
       " '/Users/damoncrockett/Desktop/stpete/viz/hists/long distance running.jpg',\n",
       " '/Users/damoncrockett/Desktop/stpete/viz/hists/long hair.jpg',\n",
       " '/Users/damoncrockett/Desktop/stpete/viz/hists/love.jpg',\n",
       " '/Users/damoncrockett/Desktop/stpete/viz/hists/lunch.jpg',\n",
       " '/Users/damoncrockett/Desktop/stpete/viz/hists/machine.jpg',\n",
       " '/Users/damoncrockett/Desktop/stpete/viz/hists/magenta.jpg',\n",
       " '/Users/damoncrockett/Desktop/stpete/viz/hists/major appliance.jpg',\n",
       " '/Users/damoncrockett/Desktop/stpete/viz/hists/male.jpg',\n",
       " '/Users/damoncrockett/Desktop/stpete/viz/hists/mammal.jpg',\n",
       " '/Users/damoncrockett/Desktop/stpete/viz/hists/man.jpg',\n",
       " '/Users/damoncrockett/Desktop/stpete/viz/hists/manicure.jpg',\n",
       " '/Users/damoncrockett/Desktop/stpete/viz/hists/mansion.jpg',\n",
       " '/Users/damoncrockett/Desktop/stpete/viz/hists/marina.jpg',\n",
       " '/Users/damoncrockett/Desktop/stpete/viz/hists/mascot.jpg',\n",
       " '/Users/damoncrockett/Desktop/stpete/viz/hists/meadow.jpg',\n",
       " '/Users/damoncrockett/Desktop/stpete/viz/hists/meal.jpg',\n",
       " '/Users/damoncrockett/Desktop/stpete/viz/hists/meat.jpg',\n",
       " '/Users/damoncrockett/Desktop/stpete/viz/hists/metropolis.jpg',\n",
       " '/Users/damoncrockett/Desktop/stpete/viz/hists/mid size car.jpg',\n",
       " '/Users/damoncrockett/Desktop/stpete/viz/hists/middle eastern food.jpg',\n",
       " '/Users/damoncrockett/Desktop/stpete/viz/hists/military aircraft.jpg',\n",
       " '/Users/damoncrockett/Desktop/stpete/viz/hists/minivan.jpg',\n",
       " '/Users/damoncrockett/Desktop/stpete/viz/hists/mobile device.jpg',\n",
       " '/Users/damoncrockett/Desktop/stpete/viz/hists/mode of transport.jpg',\n",
       " '/Users/damoncrockett/Desktop/stpete/viz/hists/model car.jpg',\n",
       " '/Users/damoncrockett/Desktop/stpete/viz/hists/model.jpg',\n",
       " '/Users/damoncrockett/Desktop/stpete/viz/hists/modern art.jpg',\n",
       " '/Users/damoncrockett/Desktop/stpete/viz/hists/monarch.jpg',\n",
       " '/Users/damoncrockett/Desktop/stpete/viz/hists/monastery.jpg',\n",
       " '/Users/damoncrockett/Desktop/stpete/viz/hists/money.jpg',\n",
       " '/Users/damoncrockett/Desktop/stpete/viz/hists/monument.jpg',\n",
       " '/Users/damoncrockett/Desktop/stpete/viz/hists/morning.jpg',\n",
       " '/Users/damoncrockett/Desktop/stpete/viz/hists/motorcycle.jpg',\n",
       " '/Users/damoncrockett/Desktop/stpete/viz/hists/motorsport.jpg',\n",
       " '/Users/damoncrockett/Desktop/stpete/viz/hists/moustache.jpg',\n",
       " '/Users/damoncrockett/Desktop/stpete/viz/hists/mouth.jpg',\n",
       " '/Users/damoncrockett/Desktop/stpete/viz/hists/moveable bridge.jpg',\n",
       " '/Users/damoncrockett/Desktop/stpete/viz/hists/mug.jpg',\n",
       " '/Users/damoncrockett/Desktop/stpete/viz/hists/multimedia.jpg',\n",
       " '/Users/damoncrockett/Desktop/stpete/viz/hists/mural.jpg',\n",
       " '/Users/damoncrockett/Desktop/stpete/viz/hists/muscle.jpg',\n",
       " '/Users/damoncrockett/Desktop/stpete/viz/hists/music venue.jpg',\n",
       " '/Users/damoncrockett/Desktop/stpete/viz/hists/music.jpg',\n",
       " '/Users/damoncrockett/Desktop/stpete/viz/hists/musical instrument.jpg',\n",
       " '/Users/damoncrockett/Desktop/stpete/viz/hists/musical theatre.jpg',\n",
       " '/Users/damoncrockett/Desktop/stpete/viz/hists/musician.jpg',\n",
       " '/Users/damoncrockett/Desktop/stpete/viz/hists/nail care.jpg',\n",
       " '/Users/damoncrockett/Desktop/stpete/viz/hists/nail.jpg',\n",
       " '/Users/damoncrockett/Desktop/stpete/viz/hists/natural environment.jpg',\n",
       " '/Users/damoncrockett/Desktop/stpete/viz/hists/natural material.jpg',\n",
       " '/Users/damoncrockett/Desktop/stpete/viz/hists/nebelung.jpg',\n",
       " '/Users/damoncrockett/Desktop/stpete/viz/hists/neck.jpg',\n",
       " '/Users/damoncrockett/Desktop/stpete/viz/hists/neighbourhood.jpg',\n",
       " '/Users/damoncrockett/Desktop/stpete/viz/hists/new year.jpg',\n",
       " '/Users/damoncrockett/Desktop/stpete/viz/hists/newspaper.jpg',\n",
       " '/Users/damoncrockett/Desktop/stpete/viz/hists/night.jpg',\n",
       " '/Users/damoncrockett/Desktop/stpete/viz/hists/nightclub.jpg',\n",
       " '/Users/damoncrockett/Desktop/stpete/viz/hists/norwegian forest cat.jpg',\n",
       " '/Users/damoncrockett/Desktop/stpete/viz/hists/nose.jpg',\n",
       " '/Users/damoncrockett/Desktop/stpete/viz/hists/ocean liner.jpg',\n",
       " '/Users/damoncrockett/Desktop/stpete/viz/hists/ocean.jpg',\n",
       " '/Users/damoncrockett/Desktop/stpete/viz/hists/official.jpg',\n",
       " '/Users/damoncrockett/Desktop/stpete/viz/hists/orange.jpg',\n",
       " '/Users/damoncrockett/Desktop/stpete/viz/hists/outdoor recreation.jpg',\n",
       " '/Users/damoncrockett/Desktop/stpete/viz/hists/outdoor structure.jpg',\n",
       " '/Users/damoncrockett/Desktop/stpete/viz/hists/outerwear.jpg',\n",
       " '/Users/damoncrockett/Desktop/stpete/viz/hists/painting.jpg',\n",
       " '/Users/damoncrockett/Desktop/stpete/viz/hists/palace.jpg',\n",
       " '/Users/damoncrockett/Desktop/stpete/viz/hists/panorama.jpg',\n",
       " '/Users/damoncrockett/Desktop/stpete/viz/hists/park.jpg',\n",
       " '/Users/damoncrockett/Desktop/stpete/viz/hists/party.jpg',\n",
       " '/Users/damoncrockett/Desktop/stpete/viz/hists/passenger ship.jpg',\n",
       " '/Users/damoncrockett/Desktop/stpete/viz/hists/passenger.jpg',\n",
       " '/Users/damoncrockett/Desktop/stpete/viz/hists/path.jpg',\n",
       " '/Users/damoncrockett/Desktop/stpete/viz/hists/pattern.jpg',\n",
       " '/Users/damoncrockett/Desktop/stpete/viz/hists/pc game.jpg',\n",
       " '/Users/damoncrockett/Desktop/stpete/viz/hists/pedestrian.jpg',\n",
       " '/Users/damoncrockett/Desktop/stpete/viz/hists/peony.jpg',\n",
       " '/Users/damoncrockett/Desktop/stpete/viz/hists/people.jpg',\n",
       " '/Users/damoncrockett/Desktop/stpete/viz/hists/performance.jpg',\n",
       " '/Users/damoncrockett/Desktop/stpete/viz/hists/performing arts.jpg',\n",
       " '/Users/damoncrockett/Desktop/stpete/viz/hists/persian.jpg',\n",
       " '/Users/damoncrockett/Desktop/stpete/viz/hists/person.jpg',\n",
       " '/Users/damoncrockett/Desktop/stpete/viz/hists/personal protective equipment.jpg',\n",
       " '/Users/damoncrockett/Desktop/stpete/viz/hists/pet.jpg',\n",
       " '/Users/damoncrockett/Desktop/stpete/viz/hists/petal.jpg',\n",
       " '/Users/damoncrockett/Desktop/stpete/viz/hists/phenomenon.jpg',\n",
       " '/Users/damoncrockett/Desktop/stpete/viz/hists/photo shoot.jpg',\n",
       " '/Users/damoncrockett/Desktop/stpete/viz/hists/photobombing.jpg',\n",
       " '/Users/damoncrockett/Desktop/stpete/viz/hists/photograph.jpg',\n",
       " '/Users/damoncrockett/Desktop/stpete/viz/hists/photography.jpg',\n",
       " '/Users/damoncrockett/Desktop/stpete/viz/hists/photomontage.jpg',\n",
       " '/Users/damoncrockett/Desktop/stpete/viz/hists/physical exercise.jpg',\n",
       " '/Users/damoncrockett/Desktop/stpete/viz/hists/physical fitness.jpg',\n",
       " '/Users/damoncrockett/Desktop/stpete/viz/hists/piano.jpg',\n",
       " '/Users/damoncrockett/Desktop/stpete/viz/hists/picnic.jpg',\n",
       " '/Users/damoncrockett/Desktop/stpete/viz/hists/picture frame.jpg',\n",
       " '/Users/damoncrockett/Desktop/stpete/viz/hists/pier.jpg',\n",
       " '/Users/damoncrockett/Desktop/stpete/viz/hists/pilates.jpg',\n",
       " '/Users/damoncrockett/Desktop/stpete/viz/hists/pink.jpg',\n",
       " '/Users/damoncrockett/Desktop/stpete/viz/hists/pint us.jpg',\n",
       " '/Users/damoncrockett/Desktop/stpete/viz/hists/placemat.jpg',\n",
       " '/Users/damoncrockett/Desktop/stpete/viz/hists/plain.jpg',\n",
       " '/Users/damoncrockett/Desktop/stpete/viz/hists/plant.jpg',\n",
       " '/Users/damoncrockett/Desktop/stpete/viz/hists/play.jpg',\n",
       " '/Users/damoncrockett/Desktop/stpete/viz/hists/player.jpg',\n",
       " '/Users/damoncrockett/Desktop/stpete/viz/hists/plaza.jpg',\n",
       " '/Users/damoncrockett/Desktop/stpete/viz/hists/plumbing fixture.jpg',\n",
       " '/Users/damoncrockett/Desktop/stpete/viz/hists/plush.jpg',\n",
       " '/Users/damoncrockett/Desktop/stpete/viz/hists/pomeranian.jpg',\n",
       " '/Users/damoncrockett/Desktop/stpete/viz/hists/pond.jpg',\n",
       " '/Users/damoncrockett/Desktop/stpete/viz/hists/port.jpg',\n",
       " '/Users/damoncrockett/Desktop/stpete/viz/hists/portrait photography.jpg',\n",
       " '/Users/damoncrockett/Desktop/stpete/viz/hists/portrait.jpg',\n",
       " '/Users/damoncrockett/Desktop/stpete/viz/hists/poster.jpg',\n",
       " '/Users/damoncrockett/Desktop/stpete/viz/hists/presentation.jpg',\n",
       " '/Users/damoncrockett/Desktop/stpete/viz/hists/produce.jpg',\n",
       " '/Users/damoncrockett/Desktop/stpete/viz/hists/product.jpg',\n",
       " '/Users/damoncrockett/Desktop/stpete/viz/hists/profession.jpg',\n",
       " '/Users/damoncrockett/Desktop/stpete/viz/hists/projection screen.jpg',\n",
       " '/Users/damoncrockett/Desktop/stpete/viz/hists/property.jpg',\n",
       " '/Users/damoncrockett/Desktop/stpete/viz/hists/public transport.jpg',\n",
       " '/Users/damoncrockett/Desktop/stpete/viz/hists/puppy.jpg',\n",
       " '/Users/damoncrockett/Desktop/stpete/viz/hists/purple.jpg',\n",
       " '/Users/damoncrockett/Desktop/stpete/viz/hists/race car.jpg',\n",
       " '/Users/damoncrockett/Desktop/stpete/viz/hists/race track.jpg',\n",
       " '/Users/damoncrockett/Desktop/stpete/viz/hists/racing.jpg',\n",
       " '/Users/damoncrockett/Desktop/stpete/viz/hists/racquet sport.jpg',\n",
       " '/Users/damoncrockett/Desktop/stpete/viz/hists/rainforest.jpg',\n",
       " '/Users/damoncrockett/Desktop/stpete/viz/hists/rave.jpg',\n",
       " '/Users/damoncrockett/Desktop/stpete/viz/hists/real estate.jpg',\n",
       " '/Users/damoncrockett/Desktop/stpete/viz/hists/rectangle.jpg',\n",
       " '/Users/damoncrockett/Desktop/stpete/viz/hists/red hair.jpg',\n",
       " '/Users/damoncrockett/Desktop/stpete/viz/hists/red sky at morning.jpg',\n",
       " '/Users/damoncrockett/Desktop/stpete/viz/hists/red.jpg',\n",
       " '/Users/damoncrockett/Desktop/stpete/viz/hists/reflection.jpg',\n",
       " '/Users/damoncrockett/Desktop/stpete/viz/hists/religion.jpg',\n",
       " '/Users/damoncrockett/Desktop/stpete/viz/hists/reservoir.jpg',\n",
       " '/Users/damoncrockett/Desktop/stpete/viz/hists/residential area.jpg',\n",
       " '/Users/damoncrockett/Desktop/stpete/viz/hists/restaurant.jpg',\n",
       " '/Users/damoncrockett/Desktop/stpete/viz/hists/retail store.jpg',\n",
       " '/Users/damoncrockett/Desktop/stpete/viz/hists/ritual.jpg',\n",
       " '/Users/damoncrockett/Desktop/stpete/viz/hists/river.jpg',\n",
       " '/Users/damoncrockett/Desktop/stpete/viz/hists/road.jpg',\n",
       " '/Users/damoncrockett/Desktop/stpete/viz/hists/rock concert.jpg',\n",
       " '/Users/damoncrockett/Desktop/stpete/viz/hists/rock.jpg',\n",
       " '/Users/damoncrockett/Desktop/stpete/viz/hists/rodent.jpg',\n",
       " '/Users/damoncrockett/Desktop/stpete/viz/hists/rolling stock.jpg',\n",
       " '/Users/damoncrockett/Desktop/stpete/viz/hists/roof.jpg',\n",
       " '/Users/damoncrockett/Desktop/stpete/viz/hists/room.jpg',\n",
       " '/Users/damoncrockett/Desktop/stpete/viz/hists/rose family.jpg',\n",
       " '/Users/damoncrockett/Desktop/stpete/viz/hists/rose.jpg',\n",
       " '/Users/damoncrockett/Desktop/stpete/viz/hists/rowing.jpg',\n",
       " '/Users/damoncrockett/Desktop/stpete/viz/hists/russian blue.jpg',\n",
       " '/Users/damoncrockett/Desktop/stpete/viz/hists/salad.jpg',\n",
       " '/Users/damoncrockett/Desktop/stpete/viz/hists/sand.jpg',\n",
       " '/Users/damoncrockett/Desktop/stpete/viz/hists/sculpture.jpg',\n",
       " '/Users/damoncrockett/Desktop/stpete/viz/hists/sea.jpg',\n",
       " '/Users/damoncrockett/Desktop/stpete/viz/hists/seafood.jpg',\n",
       " '/Users/damoncrockett/Desktop/stpete/viz/hists/season.jpg',\n",
       " '/Users/damoncrockett/Desktop/stpete/viz/hists/sedan.jpg',\n",
       " '/Users/damoncrockett/Desktop/stpete/viz/hists/selfie.jpg',\n",
       " '/Users/damoncrockett/Desktop/stpete/viz/hists/shape.jpg',\n",
       " '/Users/damoncrockett/Desktop/stpete/viz/hists/shelf.jpg',\n",
       " '/Users/damoncrockett/Desktop/stpete/viz/hists/ship.jpg',\n",
       " '/Users/damoncrockett/Desktop/stpete/viz/hists/shoe.jpg',\n",
       " '/Users/damoncrockett/Desktop/stpete/viz/hists/shore.jpg',\n",
       " '/Users/damoncrockett/Desktop/stpete/viz/hists/showgirl.jpg',\n",
       " '/Users/damoncrockett/Desktop/stpete/viz/hists/shrine.jpg',\n",
       " '/Users/damoncrockett/Desktop/stpete/viz/hists/shrub.jpg',\n",
       " '/Users/damoncrockett/Desktop/stpete/viz/hists/sibling.jpg',\n",
       " '/Users/damoncrockett/Desktop/stpete/viz/hists/signage.jpg',\n",
       " '/Users/damoncrockett/Desktop/stpete/viz/hists/silhouette.jpg',\n",
       " '/Users/damoncrockett/Desktop/stpete/viz/hists/singer.jpg',\n",
       " '/Users/damoncrockett/Desktop/stpete/viz/hists/singing.jpg',\n",
       " '/Users/damoncrockett/Desktop/stpete/viz/hists/sitting.jpg',\n",
       " '/Users/damoncrockett/Desktop/stpete/viz/hists/sketch.jpg',\n",
       " '/Users/damoncrockett/Desktop/stpete/viz/hists/skin.jpg',\n",
       " '/Users/damoncrockett/Desktop/stpete/viz/hists/sky.jpg',\n",
       " '/Users/damoncrockett/Desktop/stpete/viz/hists/skyline.jpg',\n",
       " '/Users/damoncrockett/Desktop/stpete/viz/hists/skyscraper.jpg',\n",
       " '/Users/damoncrockett/Desktop/stpete/viz/hists/sleeve.jpg',\n",
       " '/Users/damoncrockett/Desktop/stpete/viz/hists/small to medium sized cats.jpg',\n",
       " '/Users/damoncrockett/Desktop/stpete/viz/hists/smile.jpg',\n",
       " '/Users/damoncrockett/Desktop/stpete/viz/hists/snack food.jpg',\n",
       " '/Users/damoncrockett/Desktop/stpete/viz/hists/sneakers.jpg',\n",
       " '/Users/damoncrockett/Desktop/stpete/viz/hists/snow.jpg',\n",
       " '/Users/damoncrockett/Desktop/stpete/viz/hists/soft drink.jpg',\n",
       " '/Users/damoncrockett/Desktop/stpete/viz/hists/soil.jpg',\n",
       " '/Users/damoncrockett/Desktop/stpete/viz/hists/soldier.jpg',\n",
       " '/Users/damoncrockett/Desktop/stpete/viz/hists/spaghetti.jpg',\n",
       " '/Users/damoncrockett/Desktop/stpete/viz/hists/speech.jpg',\n",
       " '/Users/damoncrockett/Desktop/stpete/viz/hists/spire.jpg',\n",
       " '/Users/damoncrockett/Desktop/stpete/viz/hists/sport utility vehicle.jpg',\n",
       " '/Users/damoncrockett/Desktop/stpete/viz/hists/sport venue.jpg',\n",
       " '/Users/damoncrockett/Desktop/stpete/viz/hists/sports car.jpg',\n",
       " '/Users/damoncrockett/Desktop/stpete/viz/hists/sports equipment.jpg',\n",
       " '/Users/damoncrockett/Desktop/stpete/viz/hists/sports.jpg',\n",
       " '/Users/damoncrockett/Desktop/stpete/viz/hists/spring.jpg',\n",
       " '/Users/damoncrockett/Desktop/stpete/viz/hists/stage.jpg',\n",
       " '/Users/damoncrockett/Desktop/stpete/viz/hists/statue.jpg',\n",
       " '/Users/damoncrockett/Desktop/stpete/viz/hists/steering wheel.jpg',\n",
       " '/Users/damoncrockett/Desktop/stpete/viz/hists/still life.jpg',\n",
       " '/Users/damoncrockett/Desktop/stpete/viz/hists/street art.jpg',\n",
       " '/Users/damoncrockett/Desktop/stpete/viz/hists/street light.jpg',\n",
       " '/Users/damoncrockett/Desktop/stpete/viz/hists/street.jpg',\n",
       " '/Users/damoncrockett/Desktop/stpete/viz/hists/strength training.jpg',\n",
       " '/Users/damoncrockett/Desktop/stpete/viz/hists/string instrument.jpg',\n",
       " '/Users/damoncrockett/Desktop/stpete/viz/hists/structure.jpg',\n",
       " '/Users/damoncrockett/Desktop/stpete/viz/hists/student.jpg',\n",
       " '/Users/damoncrockett/Desktop/stpete/viz/hists/stuffed toy.jpg',\n",
       " '/Users/damoncrockett/Desktop/stpete/viz/hists/suburb.jpg',\n",
       " '/Users/damoncrockett/Desktop/stpete/viz/hists/subway.jpg',\n",
       " '/Users/damoncrockett/Desktop/stpete/viz/hists/suit.jpg',\n",
       " '/Users/damoncrockett/Desktop/stpete/viz/hists/sun.jpg',\n",
       " '/Users/damoncrockett/Desktop/stpete/viz/hists/sunglasses.jpg',\n",
       " '/Users/damoncrockett/Desktop/stpete/viz/hists/sunlight.jpg',\n",
       " '/Users/damoncrockett/Desktop/stpete/viz/hists/sunrise.jpg',\n",
       " '/Users/damoncrockett/Desktop/stpete/viz/hists/sunset.jpg',\n",
       " '/Users/damoncrockett/Desktop/stpete/viz/hists/supermarket.jpg',\n",
       " '/Users/damoncrockett/Desktop/stpete/viz/hists/supermodel.jpg',\n",
       " '/Users/damoncrockett/Desktop/stpete/viz/hists/supernatural creature.jpg',\n",
       " '/Users/damoncrockett/Desktop/stpete/viz/hists/swimming pool.jpg',\n",
       " '/Users/damoncrockett/Desktop/stpete/viz/hists/symmetry.jpg',\n",
       " '/Users/damoncrockett/Desktop/stpete/viz/hists/synagogue.jpg',\n",
       " '/Users/damoncrockett/Desktop/stpete/viz/hists/t shirt.jpg',\n",
       " '/Users/damoncrockett/Desktop/stpete/viz/hists/tabby cat.jpg',\n",
       " '/Users/damoncrockett/Desktop/stpete/viz/hists/tablecloth.jpg',\n",
       " '/Users/damoncrockett/Desktop/stpete/viz/hists/tabletop game.jpg',\n",
       " '/Users/damoncrockett/Desktop/stpete/viz/hists/tableware.jpg',\n",
       " '/Users/damoncrockett/Desktop/stpete/viz/hists/takeoff.jpg',\n",
       " '/Users/damoncrockett/Desktop/stpete/viz/hists/tank ship.jpg',\n",
       " '/Users/damoncrockett/Desktop/stpete/viz/hists/tapestry.jpg',\n",
       " '/Users/damoncrockett/Desktop/stpete/viz/hists/tartan.jpg',\n",
       " '/Users/damoncrockett/Desktop/stpete/viz/hists/tattoo artist.jpg',\n",
       " '/Users/damoncrockett/Desktop/stpete/viz/hists/tattoo.jpg',\n",
       " '/Users/damoncrockett/Desktop/stpete/viz/hists/tavern.jpg',\n",
       " '/Users/damoncrockett/Desktop/stpete/viz/hists/team.jpg',\n",
       " '/Users/damoncrockett/Desktop/stpete/viz/hists/technology.jpg',\n",
       " '/Users/damoncrockett/Desktop/stpete/viz/hists/teddy bear.jpg',\n",
       " '/Users/damoncrockett/Desktop/stpete/viz/hists/television.jpg',\n",
       " '/Users/damoncrockett/Desktop/stpete/viz/hists/temple.jpg',\n",
       " '/Users/damoncrockett/Desktop/stpete/viz/hists/terrier.jpg',\n",
       " '/Users/damoncrockett/Desktop/stpete/viz/hists/text.jpg',\n",
       " '/Users/damoncrockett/Desktop/stpete/viz/hists/textile.jpg',\n",
       " '/Users/damoncrockett/Desktop/stpete/viz/hists/texture.jpg',\n",
       " '/Users/damoncrockett/Desktop/stpete/viz/hists/theatre.jpg',\n",
       " '/Users/damoncrockett/Desktop/stpete/viz/hists/thigh.jpg',\n",
       " '/Users/damoncrockett/Desktop/stpete/viz/hists/thumb.jpg',\n",
       " '/Users/damoncrockett/Desktop/stpete/viz/hists/ticket.jpg',\n",
       " '/Users/damoncrockett/Desktop/stpete/viz/hists/tile.jpg',\n",
       " '/Users/damoncrockett/Desktop/stpete/viz/hists/toddler.jpg',\n",
       " '/Users/damoncrockett/Desktop/stpete/viz/hists/tonkinese.jpg',\n",
       " '/Users/damoncrockett/Desktop/stpete/viz/hists/torte.jpg',\n",
       " '/Users/damoncrockett/Desktop/stpete/viz/hists/tourism.jpg',\n",
       " '/Users/damoncrockett/Desktop/stpete/viz/hists/tower block.jpg',\n",
       " '/Users/damoncrockett/Desktop/stpete/viz/hists/tower.jpg',\n",
       " '/Users/damoncrockett/Desktop/stpete/viz/hists/town square.jpg',\n",
       " '/Users/damoncrockett/Desktop/stpete/viz/hists/town.jpg',\n",
       " '/Users/damoncrockett/Desktop/stpete/viz/hists/toy dog.jpg',\n",
       " '/Users/damoncrockett/Desktop/stpete/viz/hists/toy.jpg',\n",
       " '/Users/damoncrockett/Desktop/stpete/viz/hists/track.jpg',\n",
       " '/Users/damoncrockett/Desktop/stpete/viz/hists/traffic.jpg',\n",
       " '/Users/damoncrockett/Desktop/stpete/viz/hists/training.jpg',\n",
       " '/Users/damoncrockett/Desktop/stpete/viz/hists/tram.jpg',\n",
       " '/Users/damoncrockett/Desktop/stpete/viz/hists/transport.jpg',\n",
       " '/Users/damoncrockett/Desktop/stpete/viz/hists/tree.jpg',\n",
       " '/Users/damoncrockett/Desktop/stpete/viz/hists/trousers.jpg',\n",
       " '/Users/damoncrockett/Desktop/stpete/viz/hists/trunk.jpg',\n",
       " '/Users/damoncrockett/Desktop/stpete/viz/hists/tulip.jpg',\n",
       " '/Users/damoncrockett/Desktop/stpete/viz/hists/tundra.jpg',\n",
       " '/Users/damoncrockett/Desktop/stpete/viz/hists/turkish angora.jpg',\n",
       " '/Users/damoncrockett/Desktop/stpete/viz/hists/turquoise.jpg',\n",
       " '/Users/damoncrockett/Desktop/stpete/viz/hists/tuxedo.jpg',\n",
       " '/Users/damoncrockett/Desktop/stpete/viz/hists/ukulele.jpg',\n",
       " '/Users/damoncrockett/Desktop/stpete/viz/hists/undergarment.jpg',\n",
       " '/Users/damoncrockett/Desktop/stpete/viz/hists/vacation.jpg',\n",
       " '/Users/damoncrockett/Desktop/stpete/viz/hists/vegetable.jpg',\n",
       " '/Users/damoncrockett/Desktop/stpete/viz/hists/vehicle.jpg',\n",
       " '/Users/damoncrockett/Desktop/stpete/viz/hists/vertebrate.jpg',\n",
       " '/Users/damoncrockett/Desktop/stpete/viz/hists/villa.jpg',\n",
       " '/Users/damoncrockett/Desktop/stpete/viz/hists/viola.jpg',\n",
       " '/Users/damoncrockett/Desktop/stpete/viz/hists/violet.jpg',\n",
       " '/Users/damoncrockett/Desktop/stpete/viz/hists/vision care.jpg',\n",
       " '/Users/damoncrockett/Desktop/stpete/viz/hists/walkway.jpg',\n",
       " '/Users/damoncrockett/Desktop/stpete/viz/hists/wall.jpg',\n",
       " '/Users/damoncrockett/Desktop/stpete/viz/hists/water feature.jpg',\n",
       " '/Users/damoncrockett/Desktop/stpete/viz/hists/water.jpg',\n",
       " '/Users/damoncrockett/Desktop/stpete/viz/hists/watercolor paint.jpg',\n",
       " '/Users/damoncrockett/Desktop/stpete/viz/hists/watercraft rowing.jpg',\n",
       " '/Users/damoncrockett/Desktop/stpete/viz/hists/watercraft.jpg',\n",
       " '/Users/damoncrockett/Desktop/stpete/viz/hists/waterway.jpg',\n",
       " '/Users/damoncrockett/Desktop/stpete/viz/hists/weather.jpg',\n",
       " '/Users/damoncrockett/Desktop/stpete/viz/hists/web page.jpg',\n",
       " '/Users/damoncrockett/Desktop/stpete/viz/hists/wedding dress.jpg',\n",
       " '/Users/damoncrockett/Desktop/stpete/viz/hists/weight training.jpg',\n",
       " '/Users/damoncrockett/Desktop/stpete/viz/hists/wetland.jpg',\n",
       " '/Users/damoncrockett/Desktop/stpete/viz/hists/whales dolphins and porpoises.jpg',\n",
       " '/Users/damoncrockett/Desktop/stpete/viz/hists/wheel.jpg',\n",
       " '/Users/damoncrockett/Desktop/stpete/viz/hists/whiskers.jpg',\n",
       " '/Users/damoncrockett/Desktop/stpete/viz/hists/whisky.jpg',\n",
       " '/Users/damoncrockett/Desktop/stpete/viz/hists/white.jpg',\n",
       " '/Users/damoncrockett/Desktop/stpete/viz/hists/wide body aircraft.jpg',\n",
       " '/Users/damoncrockett/Desktop/stpete/viz/hists/wig.jpg',\n",
       " '/Users/damoncrockett/Desktop/stpete/viz/hists/wild cat.jpg',\n",
       " '/Users/damoncrockett/Desktop/stpete/viz/hists/wilderness.jpg',\n",
       " '/Users/damoncrockett/Desktop/stpete/viz/hists/wind wave.jpg',\n",
       " '/Users/damoncrockett/Desktop/stpete/viz/hists/window.jpg',\n",
       " '/Users/damoncrockett/Desktop/stpete/viz/hists/windshield.jpg',\n",
       " '/Users/damoncrockett/Desktop/stpete/viz/hists/wine.jpg',\n",
       " '/Users/damoncrockett/Desktop/stpete/viz/hists/winter sport.jpg',\n",
       " '/Users/damoncrockett/Desktop/stpete/viz/hists/winter storm.jpg',\n",
       " '/Users/damoncrockett/Desktop/stpete/viz/hists/winter.jpg',\n",
       " '/Users/damoncrockett/Desktop/stpete/viz/hists/woman.jpg',\n",
       " '/Users/damoncrockett/Desktop/stpete/viz/hists/wood flooring.jpg',\n",
       " '/Users/damoncrockett/Desktop/stpete/viz/hists/wood.jpg',\n",
       " '/Users/damoncrockett/Desktop/stpete/viz/hists/woodland.jpg',\n",
       " '/Users/damoncrockett/Desktop/stpete/viz/hists/writing.jpg',\n",
       " '/Users/damoncrockett/Desktop/stpete/viz/hists/yacht.jpg',\n",
       " '/Users/damoncrockett/Desktop/stpete/viz/hists/yard.jpg',\n",
       " '/Users/damoncrockett/Desktop/stpete/viz/hists/yellow.jpg',\n",
       " '/Users/damoncrockett/Desktop/stpete/viz/hists/youth.jpg']"
      ]
     },
     "execution_count": 40,
     "metadata": {},
     "output_type": "execute_result"
    }
   ],
   "source": [
    "imgs"
   ]
  },
  {
   "cell_type": "code",
   "execution_count": null,
   "metadata": {
    "collapsed": true
   },
   "outputs": [],
   "source": []
  }
 ],
 "metadata": {
  "kernelspec": {
   "display_name": "Python 2",
   "language": "python",
   "name": "python2"
  },
  "language_info": {
   "codemirror_mode": {
    "name": "ipython",
    "version": 2
   },
   "file_extension": ".py",
   "mimetype": "text/x-python",
   "name": "python",
   "nbconvert_exporter": "python",
   "pygments_lexer": "ipython2",
   "version": "2.7.10"
  }
 },
 "nbformat": 4,
 "nbformat_minor": 0
}

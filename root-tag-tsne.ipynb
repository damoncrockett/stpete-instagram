{
 "cells": [
  {
   "cell_type": "code",
   "execution_count": 1,
   "metadata": {
    "collapsed": true
   },
   "outputs": [],
   "source": [
    "import pandas as pd\n",
    "import numpy as np"
   ]
  },
  {
   "cell_type": "code",
   "execution_count": 2,
   "metadata": {
    "collapsed": true
   },
   "outputs": [],
   "source": [
    "tag_counts = pd.read_csv(\"./tags_counts_rank.csv\")"
   ]
  },
  {
   "cell_type": "code",
   "execution_count": 3,
   "metadata": {
    "collapsed": false
   },
   "outputs": [],
   "source": [
    "df = tag_counts[tag_counts['count'] > 1000].sort(\"avg_rank\") # only top tags"
   ]
  },
  {
   "cell_type": "code",
   "execution_count": 4,
   "metadata": {
    "collapsed": false
   },
   "outputs": [],
   "source": [
    "df.reset_index(drop=True,inplace=True)"
   ]
  },
  {
   "cell_type": "code",
   "execution_count": 5,
   "metadata": {
    "collapsed": false
   },
   "outputs": [],
   "source": [
    "d = pd.read_csv(\"./X.csv\")"
   ]
  },
  {
   "cell_type": "code",
   "execution_count": 6,
   "metadata": {
    "collapsed": true
   },
   "outputs": [],
   "source": [
    "from sklearn.manifold import TSNE as tsne\n",
    "from PIL import Image"
   ]
  },
  {
   "cell_type": "code",
   "execution_count": 7,
   "metadata": {
    "collapsed": true
   },
   "outputs": [],
   "source": [
    "thumb_side = 96 # publication size"
   ]
  },
  {
   "cell_type": "markdown",
   "metadata": {},
   "source": [
    "## Simple"
   ]
  },
  {
   "cell_type": "code",
   "execution_count": 8,
   "metadata": {
    "collapsed": false
   },
   "outputs": [
    {
     "data": {
      "text/plain": [
       "'\\n\\nfor tag in list(df.tag):\\n    tmp = d[d[tag]!=0]\\n    tmp.reset_index(drop=True,inplace=True)\\n    \\n    num_bin = int(round( ( len(tmp) * 48 ) / 5000 )) \\n    \\n    X = tmp.iloc[:,1:451].as_matrix() # subset to smaller feature space\\n    tsne_obj = tsne(n_components=2)\\n    \\n    subspace_tsne = pd.DataFrame(tsne_obj.fit_transform(X),columns=[\"x\",\"y\"])\\n    subspace_tsne[\\'grid_x\\'] = pd.cut(subspace_tsne[\\'x\\'],num_bin,labels=False)\\n    subspace_tsne[\\'grid_y\\'] = pd.cut(subspace_tsne[\\'y\\'],num_bin,labels=False)\\n    subspace_tsne[\\'local_path\\'] = tmp.local_path\\n    \\n    grid_side = num_bin\\n    px_w = thumb_side * grid_side\\n    px_h = thumb_side * grid_side\\n    \\n    canvas = Image.new(\\'RGB\\',(px_w,px_h),(50,50,50))\\n                  \\n    for i in range(len(subspace_tsne)):\\n        im = Image.open(subspace_tsne.local_path.loc[i])\\n        im.thumbnail((thumb_side,thumb_side),Image.ANTIALIAS)\\n        x = subspace_tsne.grid_x.loc[i] * thumb_side\\n        y = subspace_tsne.grid_y.loc[i] * thumb_side\\n        canvas.paste(im,(x,y))\\n        \\n    canvas.save(\"/Users/damoncrockett/Desktop/stpete/viz/\"+tag+\"_\"+str(num_bin)+\".png\")\\n    \\n'"
      ]
     },
     "execution_count": 8,
     "metadata": {},
     "output_type": "execute_result"
    }
   ],
   "source": [
    "'''\n",
    "\n",
    "for tag in list(df.tag):\n",
    "    tmp = d[d[tag]!=0]\n",
    "    tmp.reset_index(drop=True,inplace=True)\n",
    "    \n",
    "    num_bin = int(round( ( len(tmp) * 48 ) / 5000 )) \n",
    "    \n",
    "    X = tmp.iloc[:,1:451].as_matrix() # subset to smaller feature space\n",
    "    tsne_obj = tsne(n_components=2)\n",
    "    \n",
    "    subspace_tsne = pd.DataFrame(tsne_obj.fit_transform(X),columns=[\"x\",\"y\"])\n",
    "    subspace_tsne['grid_x'] = pd.cut(subspace_tsne['x'],num_bin,labels=False)\n",
    "    subspace_tsne['grid_y'] = pd.cut(subspace_tsne['y'],num_bin,labels=False)\n",
    "    subspace_tsne['local_path'] = tmp.local_path\n",
    "    \n",
    "    grid_side = num_bin\n",
    "    px_w = thumb_side * grid_side\n",
    "    px_h = thumb_side * grid_side\n",
    "    \n",
    "    canvas = Image.new('RGB',(px_w,px_h),(50,50,50))\n",
    "                  \n",
    "    for i in range(len(subspace_tsne)):\n",
    "        im = Image.open(subspace_tsne.local_path.loc[i])\n",
    "        im.thumbnail((thumb_side,thumb_side),Image.ANTIALIAS)\n",
    "        x = subspace_tsne.grid_x.loc[i] * thumb_side\n",
    "        y = subspace_tsne.grid_y.loc[i] * thumb_side\n",
    "        canvas.paste(im,(x,y))\n",
    "        \n",
    "    canvas.save(\"/Users/damoncrockett/Desktop/stpete/viz/\"+tag+\"_\"+str(num_bin)+\".png\")\n",
    "    \n",
    "'''"
   ]
  },
  {
   "cell_type": "markdown",
   "metadata": {},
   "source": [
    "## Fill"
   ]
  },
  {
   "cell_type": "code",
   "execution_count": 9,
   "metadata": {
    "collapsed": true
   },
   "outputs": [],
   "source": [
    "from shapely.geometry import Point"
   ]
  },
  {
   "cell_type": "code",
   "execution_count": 10,
   "metadata": {
    "collapsed": true
   },
   "outputs": [],
   "source": [
    "crit = np.sqrt(2) # adjacency"
   ]
  },
  {
   "cell_type": "code",
   "execution_count": 11,
   "metadata": {
    "collapsed": true
   },
   "outputs": [],
   "source": [
    "PRE = \"/Users/damoncrockett/Desktop/stpete/viz/tag_fill_crit_alldims/\""
   ]
  },
  {
   "cell_type": "code",
   "execution_count": 12,
   "metadata": {
    "collapsed": false
   },
   "outputs": [
    {
     "name": "stdout",
     "output_type": "stream",
     "text": [
      "1855 72 684 clothing 58 1.0\n",
      "3897 55 849 person 94 1.0\n",
      "2495 65 488 hair 70 1.0\n",
      "1173 80 449 night 44 1.0\n",
      "906 70 697 plant 40 1.0\n",
      "2003 66 1220 vehicle 62 1.0\n",
      "996 73 727 pet 42 1.0\n",
      "1436 73 586 dish 50 1.0\n",
      "801 75 314 landmark 36 1.0\n",
      "1090 80 433 horizon 42 1.0\n",
      "2005 67 802 meal 62 1.0\n",
      "1793 66 862 food 58 1.0\n",
      "814 70 618 label 38 1.0\n",
      "1101 74 772 flower 44 1.0\n",
      "889 75 645 furniture 38 1.0\n",
      "781 73 348 album cover 36 1.0\n",
      "1214 75 674 art 46 1.0\n",
      "856 76 698 sculpture 38 1.0\n",
      "711 70 629 sports 36 1.0\n",
      "960 75 566 mobile device 40 1.0\n",
      "976 68 566 painting 42 1.0\n",
      "818 79 626 modern art 36 1.0\n",
      "2354 65 530 hairstyle 68 1.0\n",
      "711 67 723 animal 36 1.0\n",
      "1464 64 672 document 54 1.0\n",
      "1088 77 294 blond 42 1.0\n",
      "1143 71 789 produce 46 1.0\n",
      "2056 69 1126 toy 62 1.0\n",
      "786 74 379 nose 36 1.0\n",
      "1575 67 613 finger 54 1.0\n",
      "945 72 646 lighting 40 1.0\n",
      "804 75 738 flooring 36 1.0\n",
      "882 74 348 plaza 38 1.0\n",
      "1083 81 477 sea 42 1.0\n",
      "1294 69 541 profession 48 1.0\n",
      "1202 81 388 skyline 44 1.0\n",
      "784 77 596 jewellery 36 1.0\n",
      "992 77 368 portrait 40 1.0\n",
      "1982 63 409 selfie 64 1.0\n",
      "1472 70 615 costume 52 1.0\n",
      "839 73 229 black hair 38 1.0\n",
      "936 73 527 hand 40 1.0\n",
      "798 75 400 coast 36 1.0\n",
      "867 72 584 pattern 38 1.0\n",
      "1053 74 510 outerwear 42 1.0\n",
      "897 69 600 headgear 40 1.0\n",
      "1025 79 457 panorama 40 1.0\n",
      "1016 84 244 brown hair 40 1.0\n"
     ]
    }
   ],
   "source": [
    "for tag in list(df.tag):\n",
    "    tmp = d[d[tag]!=0]\n",
    "    tmp.reset_index(drop=True,inplace=True)\n",
    "    tmp = tmp[tmp.columns[(tmp != 0).any()]] # eliminating all zero columns\n",
    "    \n",
    "    num_bin = 2 * int(round( np.sqrt( len(tmp) / np.pi ) )) # square that fits the circle\n",
    "    \n",
    "    X = tmp.iloc[:,1:].as_matrix()\n",
    "    tsne_obj = tsne(n_components=2)\n",
    "    \n",
    "    subspace_tsne = pd.DataFrame(tsne_obj.fit_transform(X),columns=[\"x\",\"y\"])\n",
    "    subspace_tsne['grid_x'] = pd.cut(subspace_tsne['x'],num_bin,labels=False)\n",
    "    subspace_tsne['grid_y'] = pd.cut(subspace_tsne['y'],num_bin,labels=False)\n",
    "    subspace_tsne['local_path'] = tmp.local_path\n",
    "    \n",
    "    grid_side = num_bin \n",
    "    px_w = thumb_side * grid_side\n",
    "    px_h = thumb_side * grid_side\n",
    "    \n",
    "    x,y = range(grid_side) * grid_side, np.repeat(range(grid_side),grid_side)\n",
    "    grid_list = pd.DataFrame(x,columns=['x'])\n",
    "    grid_list['y'] = y\n",
    "    \n",
    "    point = []\n",
    "    for i in range(len(grid_list)):\n",
    "        point.append(Point(grid_list.x.loc[i],grid_list.y.loc[i]))\n",
    "\n",
    "    grid_list['point'] = point\n",
    "        \n",
    "    avg_dist = []\n",
    "    open_grid = list(grid_list.point)\n",
    "    canvas = Image.new('RGB',(px_w,px_h),(50,50,50))\n",
    "\n",
    "    plotted = 0\n",
    "    for i in np.random.permutation(np.arange(np.round(len(subspace_tsne)))):\n",
    "        im = Image.open(subspace_tsne.local_path.loc[i])\n",
    "        im.thumbnail((thumb_side,thumb_side),Image.ANTIALIAS)\n",
    "        x = subspace_tsne.grid_x.loc[i] * thumb_side \n",
    "        y = subspace_tsne.grid_y.loc[i] * thumb_side \n",
    "        grid_point = Point((subspace_tsne.grid_x.loc[i],subspace_tsne.grid_y.loc[i]))\n",
    "\n",
    "        if grid_point in open_grid:\n",
    "            canvas.paste(im,(x,y))\n",
    "            open_grid.remove(grid_point)\n",
    "            plotted+=1\n",
    "\n",
    "        elif len(open_grid) == 0:\n",
    "            break\n",
    "\n",
    "        else:\n",
    "            closest_open = min(open_grid,key=lambda x: grid_point.distance(x))\n",
    "            if grid_point.distance(closest_open) < crit: # adjacency criterion\n",
    "                x = int(closest_open.x) * thumb_side\n",
    "                y = int(closest_open.y) * thumb_side\n",
    "                canvas.paste(im,(x,y))\n",
    "                open_grid.remove(closest_open)\n",
    "                avg_dist.append( float(grid_point.distance(closest_open)) )\n",
    "                plotted+=1\n",
    "\n",
    "    proportion = str(int(round(plotted*100/len(subspace_tsne))))\n",
    "    dims = str(len(tmp.columns)-1)\n",
    "    canvas.save(PRE+tag+\"_\"+str(num_bin)+\"_\"+proportion+\"_\"+dims+\"_\"+str(plotted)+\".png\")\n",
    "\n",
    "    print str(plotted),proportion,dims,tag,num_bin,np.mean(avg_dist)"
   ]
  },
  {
   "cell_type": "code",
   "execution_count": 13,
   "metadata": {
    "collapsed": true
   },
   "outputs": [],
   "source": [
    "path_list = []\n",
    "for tag in list(df.tag):\n",
    "    tmp = d[d[tag]!=0]\n",
    "    path_list.append(list(tmp.local_path))"
   ]
  },
  {
   "cell_type": "code",
   "execution_count": 14,
   "metadata": {
    "collapsed": true
   },
   "outputs": [],
   "source": [
    "path_list = [item for sublist in path_list for item in sublist]"
   ]
  },
  {
   "cell_type": "code",
   "execution_count": 15,
   "metadata": {
    "collapsed": true
   },
   "outputs": [],
   "source": [
    "path_list = list(set(path_list))"
   ]
  },
  {
   "cell_type": "code",
   "execution_count": 16,
   "metadata": {
    "collapsed": false
   },
   "outputs": [
    {
     "data": {
      "text/plain": [
       "38694"
      ]
     },
     "execution_count": 16,
     "metadata": {},
     "output_type": "execute_result"
    }
   ],
   "source": [
    "len(path_list)"
   ]
  },
  {
   "cell_type": "code",
   "execution_count": 24,
   "metadata": {
    "collapsed": false
   },
   "outputs": [
    {
     "data": {
      "text/plain": [
       "0.8161569289179498"
      ]
     },
     "execution_count": 24,
     "metadata": {},
     "output_type": "execute_result"
    }
   ],
   "source": [
    "float(38694)/len(d)"
   ]
  },
  {
   "cell_type": "code",
   "execution_count": 22,
   "metadata": {
    "collapsed": false
   },
   "outputs": [
    {
     "name": "stdout",
     "output_type": "stream",
     "text": [
      "['clothing', 'person', 'hair', 'night', 'plant', 'vehicle', 'pet', 'dish', 'landmark', 'horizon', 'meal', 'food', 'label', 'flower', 'furniture', 'album cover', 'art', 'sculpture', 'sports', 'mobile device', 'painting', 'modern art', 'hairstyle', 'animal', 'document', 'blond', 'produce', 'toy', 'nose', 'finger', 'lighting', 'flooring', 'plaza', 'sea', 'profession', 'skyline', 'jewellery', 'portrait', 'selfie', 'costume', 'black hair', 'hand', 'coast', 'pattern', 'outerwear', 'headgear', 'panorama', 'brown hair']\n"
     ]
    }
   ],
   "source": [
    "print list(df.tag)"
   ]
  },
  {
   "cell_type": "code",
   "execution_count": 25,
   "metadata": {
    "collapsed": false
   },
   "outputs": [
    {
     "name": "stdout",
     "output_type": "stream",
     "text": [
      "<class 'pandas.core.frame.DataFrame'>\n",
      "Int64Index: 47410 entries, 0 to 47409\n",
      "Columns: 3883 entries, local_path to tapir\n",
      "dtypes: float64(3882), object(1)\n",
      "memory usage: 1.4+ GB\n"
     ]
    }
   ],
   "source": [
    "d.info()"
   ]
  },
  {
   "cell_type": "code",
   "execution_count": null,
   "metadata": {
    "collapsed": true
   },
   "outputs": [],
   "source": []
  }
 ],
 "metadata": {
  "kernelspec": {
   "display_name": "Python 2",
   "language": "python",
   "name": "python2"
  },
  "language_info": {
   "codemirror_mode": {
    "name": "ipython",
    "version": 2
   },
   "file_extension": ".py",
   "mimetype": "text/x-python",
   "name": "python",
   "nbconvert_exporter": "python",
   "pygments_lexer": "ipython2",
   "version": "2.7.10"
  }
 },
 "nbformat": 4,
 "nbformat_minor": 0
}

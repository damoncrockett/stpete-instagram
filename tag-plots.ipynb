{
 "cells": [
  {
   "cell_type": "code",
   "execution_count": 1,
   "metadata": {
    "collapsed": true
   },
   "outputs": [],
   "source": [
    "import pandas as pd\n",
    "import numpy as np\n",
    "from shapely.geometry import Point\n",
    "from PIL import Image, ImageDraw\n",
    "import glob\n",
    "import os"
   ]
  },
  {
   "cell_type": "code",
   "execution_count": 2,
   "metadata": {
    "collapsed": true
   },
   "outputs": [],
   "source": [
    "FOLDER = \"/Users/damoncrockett/Desktop/stpete/viz/tag-plots/\""
   ]
  },
  {
   "cell_type": "code",
   "execution_count": 3,
   "metadata": {
    "collapsed": true
   },
   "outputs": [],
   "source": [
    "df = pd.read_csv(\"./X.csv\")"
   ]
  },
  {
   "cell_type": "code",
   "execution_count": null,
   "metadata": {
    "collapsed": true
   },
   "outputs": [],
   "source": [
    "thumb_side = 128"
   ]
  },
  {
   "cell_type": "code",
   "execution_count": null,
   "metadata": {
    "collapsed": false
   },
   "outputs": [],
   "source": [
    "for col in df.columns[1:10]:\n",
    "    tmp = df[['local_path',col]][df[col]!=0]\n",
    "    tmp.sort(col,inplace=True,ascending=False)\n",
    "    tmp.reset_index(drop=True,inplace=True)\n",
    "    n = len(tmp)\n",
    "    \n",
    "    side = int(round(np.sqrt(n))) + 5\n",
    "    canvas = Image.new('RGB',(side * thumb_side, side * thumb_side),(50,50,50))\n",
    "    x,y = range(side) * side, np.repeat(range(side),side)\n",
    "    grid_list = pd.DataFrame(x,columns=['x'])\n",
    "    grid_list['y'] = y\n",
    "    \n",
    "    point = []\n",
    "    l = len(grid_list.index)\n",
    "    for i in range(l):\n",
    "        point.append(Point(grid_list.x.loc[i],grid_list.y.loc[i]))\n",
    "    grid_list['point'] = point\n",
    "    open_grid = list(grid_list.point)\n",
    "    \n",
    "    exemplar = Point(int(round(side/2)),int(round(side/2)))\n",
    "    open_grid.remove(exemplar)\n",
    "    \n",
    "    breaks = [100,500,1000,2500]\n",
    "    \n",
    "    print col\n",
    "    \n",
    "    for i in range(n):\n",
    "        im = Image.open(tmp.local_path.loc[i])\n",
    "        im.thumbnail((thumb_side,thumb_side),Image.ANTIALIAS)\n",
    "        draw = ImageDraw.Draw(im)\n",
    "        draw.text((100,10),str(tmp[col].loc[i]),fill=\"white\")\n",
    "        \n",
    "        closest_open = min(open_grid,key=lambda x: exemplar.distance(x))\n",
    "        x = int(closest_open.x) * thumb_side\n",
    "        y = int(closest_open.y) * thumb_side\n",
    "        canvas.paste(im,(x,y))\n",
    "        open_grid.remove(closest_open)\n",
    "        \n",
    "        if i in breaks:\n",
    "            print i\n",
    "        \n",
    "    canvas.save(FOLDER+col+\".png\")"
   ]
  },
  {
   "cell_type": "code",
   "execution_count": null,
   "metadata": {
    "collapsed": true
   },
   "outputs": [],
   "source": []
  }
 ],
 "metadata": {
  "kernelspec": {
   "display_name": "Python 2",
   "language": "python",
   "name": "python2"
  },
  "language_info": {
   "codemirror_mode": {
    "name": "ipython",
    "version": 2
   },
   "file_extension": ".py",
   "mimetype": "text/x-python",
   "name": "python",
   "nbconvert_exporter": "python",
   "pygments_lexer": "ipython2",
   "version": "2.7.10"
  }
 },
 "nbformat": 4,
 "nbformat_minor": 0
}

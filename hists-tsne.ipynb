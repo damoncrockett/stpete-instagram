{
 "cells": [
  {
   "cell_type": "code",
   "execution_count": 26,
   "metadata": {
    "collapsed": true
   },
   "outputs": [],
   "source": [
    "import pandas as pd\n",
    "import numpy as np"
   ]
  },
  {
   "cell_type": "code",
   "execution_count": 27,
   "metadata": {
    "collapsed": false
   },
   "outputs": [],
   "source": [
    "d = pd.read_csv(\"./hists_imgs.csv\")"
   ]
  },
  {
   "cell_type": "code",
   "execution_count": 28,
   "metadata": {
    "collapsed": false
   },
   "outputs": [
    {
     "data": {
      "text/html": [
       "<div>\n",
       "<table border=\"1\" class=\"dataframe\">\n",
       "  <thead>\n",
       "    <tr style=\"text-align: right;\">\n",
       "      <th></th>\n",
       "      <th>0</th>\n",
       "      <th>1</th>\n",
       "      <th>2</th>\n",
       "      <th>3</th>\n",
       "      <th>4</th>\n",
       "      <th>tag</th>\n",
       "      <th>local_path</th>\n",
       "    </tr>\n",
       "  </thead>\n",
       "  <tbody>\n",
       "    <tr>\n",
       "      <th>0</th>\n",
       "      <td>0.000000</td>\n",
       "      <td>0.000000</td>\n",
       "      <td>0.000000</td>\n",
       "      <td>0.029815</td>\n",
       "      <td>1.000000</td>\n",
       "      <td>person</td>\n",
       "      <td>/Users/damoncrockett/Desktop/stpete/viz/hists/...</td>\n",
       "    </tr>\n",
       "    <tr>\n",
       "      <th>1</th>\n",
       "      <td>0.000000</td>\n",
       "      <td>0.000000</td>\n",
       "      <td>0.000000</td>\n",
       "      <td>0.000000</td>\n",
       "      <td>1.000000</td>\n",
       "      <td>hair</td>\n",
       "      <td>/Users/damoncrockett/Desktop/stpete/viz/hists/...</td>\n",
       "    </tr>\n",
       "    <tr>\n",
       "      <th>2</th>\n",
       "      <td>0.000000</td>\n",
       "      <td>0.000000</td>\n",
       "      <td>0.156982</td>\n",
       "      <td>1.000000</td>\n",
       "      <td>0.412402</td>\n",
       "      <td>hairstyle</td>\n",
       "      <td>/Users/damoncrockett/Desktop/stpete/viz/hists/...</td>\n",
       "    </tr>\n",
       "    <tr>\n",
       "      <th>3</th>\n",
       "      <td>1.000000</td>\n",
       "      <td>0.766667</td>\n",
       "      <td>0.444203</td>\n",
       "      <td>0.062319</td>\n",
       "      <td>0.000000</td>\n",
       "      <td>selfie</td>\n",
       "      <td>/Users/damoncrockett/Desktop/stpete/viz/hists/...</td>\n",
       "    </tr>\n",
       "    <tr>\n",
       "      <th>4</th>\n",
       "      <td>0.105419</td>\n",
       "      <td>0.544828</td>\n",
       "      <td>0.564532</td>\n",
       "      <td>0.741872</td>\n",
       "      <td>1.000000</td>\n",
       "      <td>vehicle</td>\n",
       "      <td>/Users/damoncrockett/Desktop/stpete/viz/hists/...</td>\n",
       "    </tr>\n",
       "  </tbody>\n",
       "</table>\n",
       "</div>"
      ],
      "text/plain": [
       "          0         1         2         3         4        tag  \\\n",
       "0  0.000000  0.000000  0.000000  0.029815  1.000000     person   \n",
       "1  0.000000  0.000000  0.000000  0.000000  1.000000       hair   \n",
       "2  0.000000  0.000000  0.156982  1.000000  0.412402  hairstyle   \n",
       "3  1.000000  0.766667  0.444203  0.062319  0.000000     selfie   \n",
       "4  0.105419  0.544828  0.564532  0.741872  1.000000    vehicle   \n",
       "\n",
       "                                          local_path  \n",
       "0  /Users/damoncrockett/Desktop/stpete/viz/hists/...  \n",
       "1  /Users/damoncrockett/Desktop/stpete/viz/hists/...  \n",
       "2  /Users/damoncrockett/Desktop/stpete/viz/hists/...  \n",
       "3  /Users/damoncrockett/Desktop/stpete/viz/hists/...  \n",
       "4  /Users/damoncrockett/Desktop/stpete/viz/hists/...  "
      ]
     },
     "execution_count": 28,
     "metadata": {},
     "output_type": "execute_result"
    }
   ],
   "source": [
    "d.head()"
   ]
  },
  {
   "cell_type": "code",
   "execution_count": 29,
   "metadata": {
    "collapsed": false
   },
   "outputs": [],
   "source": [
    "d = d[d.local_path.notnull()]\n",
    "d.reset_index(drop=True,inplace=True)"
   ]
  },
  {
   "cell_type": "code",
   "execution_count": 30,
   "metadata": {
    "collapsed": true
   },
   "outputs": [],
   "source": [
    "from sklearn.manifold import TSNE as tsne\n",
    "from PIL import Image, ImageDraw"
   ]
  },
  {
   "cell_type": "code",
   "execution_count": 31,
   "metadata": {
    "collapsed": true
   },
   "outputs": [],
   "source": [
    "thumb_side = 128"
   ]
  },
  {
   "cell_type": "markdown",
   "metadata": {},
   "source": [
    "## Fill"
   ]
  },
  {
   "cell_type": "code",
   "execution_count": 32,
   "metadata": {
    "collapsed": true
   },
   "outputs": [],
   "source": [
    "from shapely.geometry import Point"
   ]
  },
  {
   "cell_type": "code",
   "execution_count": 33,
   "metadata": {
    "collapsed": true
   },
   "outputs": [],
   "source": [
    "crit = np.sqrt(2) # adjacency"
   ]
  },
  {
   "cell_type": "code",
   "execution_count": 34,
   "metadata": {
    "collapsed": true
   },
   "outputs": [],
   "source": [
    "PRE = \"/Users/damoncrockett/Desktop/stpete/viz/hists-tsne/\""
   ]
  },
  {
   "cell_type": "code",
   "execution_count": 37,
   "metadata": {
    "collapsed": false
   },
   "outputs": [],
   "source": [
    "num_bin = 3 * int(round( np.sqrt( len(d) / np.pi ) ))\n",
    "\n",
    "X = d.iloc[:,:5].as_matrix()\n",
    "tsne_obj = tsne(n_components=2)\n",
    "\n",
    "subspace_tsne = pd.DataFrame(tsne_obj.fit_transform(X),columns=[\"x\",\"y\"])\n",
    "subspace_tsne['grid_x'] = pd.cut(subspace_tsne['x'],num_bin,labels=False)\n",
    "subspace_tsne['grid_y'] = pd.cut(subspace_tsne['y'],num_bin,labels=False)\n",
    "subspace_tsne['local_path'] = d.local_path\n",
    "subspace_tsne['tag'] = d.tag\n",
    "\n",
    "grid_side = num_bin \n",
    "px_w = thumb_side * grid_side\n",
    "px_h = thumb_side * grid_side\n",
    "\n",
    "x,y = range(grid_side) * grid_side, np.repeat(range(grid_side),grid_side)\n",
    "grid_list = pd.DataFrame(x,columns=['x'])\n",
    "grid_list['y'] = y\n",
    "\n",
    "point = []\n",
    "for i in range(len(grid_list)):\n",
    "    point.append(Point(grid_list.x.loc[i],grid_list.y.loc[i]))\n",
    "\n",
    "grid_list['point'] = point\n",
    "\n",
    "avg_dist = []\n",
    "open_grid = list(grid_list.point)\n",
    "canvas = Image.new('RGB',(px_w,px_h),(255,255,255))\n",
    "\n",
    "plotted = 0\n",
    "for i in np.random.permutation(np.arange(np.round(len(subspace_tsne)))):\n",
    "    im = Image.open(subspace_tsne.local_path.loc[i])\n",
    "    tag = subspace_tsne.tag.loc[i]\n",
    "    im.thumbnail((thumb_side,thumb_side),Image.ANTIALIAS)\n",
    "    \n",
    "    draw = ImageDraw.Draw(im)\n",
    "    draw.text((5,110),tag,fill=(155,155,155))\n",
    "    \n",
    "    x = subspace_tsne.grid_x.loc[i] * thumb_side \n",
    "    y = subspace_tsne.grid_y.loc[i] * thumb_side \n",
    "    grid_point = Point((subspace_tsne.grid_x.loc[i],subspace_tsne.grid_y.loc[i]))\n",
    "\n",
    "    if grid_point in open_grid:\n",
    "        canvas.paste(im,(x,y))\n",
    "        open_grid.remove(grid_point)\n",
    "        plotted+=1\n",
    "\n",
    "    elif len(open_grid) == 0:\n",
    "        break\n",
    "\n",
    "    else:\n",
    "        closest_open = min(open_grid,key=lambda x: grid_point.distance(x))\n",
    "        if grid_point.distance(closest_open) < crit: # adjacency criterion\n",
    "            x = int(closest_open.x) * thumb_side\n",
    "            y = int(closest_open.y) * thumb_side\n",
    "            canvas.paste(im,(x,y))\n",
    "            open_grid.remove(closest_open)\n",
    "            avg_dist.append( float(grid_point.distance(closest_open)) )\n",
    "            plotted+=1\n",
    "\n",
    "proportion = str(int(round(plotted*100/len(subspace_tsne))))\n",
    "canvas.save(PRE+str(num_bin)+\"_\"+proportion+\"_\"+\"_\"+str(plotted)+\".png\")"
   ]
  },
  {
   "cell_type": "code",
   "execution_count": null,
   "metadata": {
    "collapsed": true
   },
   "outputs": [],
   "source": []
  }
 ],
 "metadata": {
  "kernelspec": {
   "display_name": "Python 2",
   "language": "python",
   "name": "python2"
  },
  "language_info": {
   "codemirror_mode": {
    "name": "ipython",
    "version": 2
   },
   "file_extension": ".py",
   "mimetype": "text/x-python",
   "name": "python",
   "nbconvert_exporter": "python",
   "pygments_lexer": "ipython2",
   "version": "2.7.10"
  }
 },
 "nbformat": 4,
 "nbformat_minor": 0
}

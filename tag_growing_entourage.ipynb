{
 "cells": [
  {
   "cell_type": "markdown",
   "metadata": {},
   "source": [
    "## Growing Entourage Plots for Top Tags with Clusters on Subtags"
   ]
  },
  {
   "cell_type": "markdown",
   "metadata": {},
   "source": [
    "#### Damon Crockett, Software Studies, damoncrockett@gmail.com"
   ]
  },
  {
   "cell_type": "code",
   "execution_count": 1,
   "metadata": {
    "collapsed": true
   },
   "outputs": [],
   "source": [
    "DIR = \"/Users/damoncrockett/Desktop/stpete/viz/growing_entourage/\""
   ]
  },
  {
   "cell_type": "code",
   "execution_count": 2,
   "metadata": {
    "collapsed": true
   },
   "outputs": [],
   "source": [
    "import pandas as pd\n",
    "import numpy as np"
   ]
  },
  {
   "cell_type": "code",
   "execution_count": 3,
   "metadata": {
    "collapsed": true
   },
   "outputs": [],
   "source": [
    "df = pd.read_csv(\"./X.csv\")"
   ]
  },
  {
   "cell_type": "code",
   "execution_count": 4,
   "metadata": {
    "collapsed": false
   },
   "outputs": [],
   "source": [
    "seq_list = []\n",
    "for i in range(len(df)):\n",
    "    seq_list.append(list(df.loc[i][df.loc[i]!=0][1:].sort(axis=1,inplace=False,ascending=False).index))"
   ]
  },
  {
   "cell_type": "code",
   "execution_count": 5,
   "metadata": {
    "collapsed": true
   },
   "outputs": [],
   "source": [
    "tag_counts = pd.read_csv(\"./tags_counts_rank.csv\")"
   ]
  },
  {
   "cell_type": "code",
   "execution_count": 6,
   "metadata": {
    "collapsed": false
   },
   "outputs": [],
   "source": [
    "d = tag_counts[tag_counts['count'] > 1000] # no need to reset index bc we hacked off end"
   ]
  },
  {
   "cell_type": "code",
   "execution_count": 7,
   "metadata": {
    "collapsed": true
   },
   "outputs": [],
   "source": [
    "del d['Unnamed: 0']"
   ]
  },
  {
   "cell_type": "code",
   "execution_count": 8,
   "metadata": {
    "collapsed": false
   },
   "outputs": [],
   "source": [
    "tags = list(d.tag)"
   ]
  },
  {
   "cell_type": "code",
   "execution_count": 9,
   "metadata": {
    "collapsed": true
   },
   "outputs": [],
   "source": [
    "from collections import Counter"
   ]
  },
  {
   "cell_type": "markdown",
   "metadata": {},
   "source": [
    "#### Get top subtags for each tag"
   ]
  },
  {
   "cell_type": "code",
   "execution_count": 10,
   "metadata": {
    "collapsed": true
   },
   "outputs": [],
   "source": [
    "num_subtags = 16"
   ]
  },
  {
   "cell_type": "code",
   "execution_count": 11,
   "metadata": {
    "collapsed": false
   },
   "outputs": [],
   "source": [
    "cluster_list= []\n",
    "\n",
    "for tag in tags:\n",
    "    tmp = df[df[tag]!=0]\n",
    "    seq_list_subset = [seq_list[i] for i in tmp.index]\n",
    "    seq_list_subset = [item for sublist in seq_list_subset for item in sublist]\n",
    "    seq_list_subset = [item for item in seq_list_subset if item not in tags]\n",
    "    clusters = [item[0] for item in Counter(seq_list_subset).most_common(num_subtags)]\n",
    "    cluster_list.append(clusters)"
   ]
  },
  {
   "cell_type": "code",
   "execution_count": 12,
   "metadata": {
    "collapsed": false
   },
   "outputs": [
    {
     "name": "stderr",
     "output_type": "stream",
     "text": [
      "/Library/Python/2.7/site-packages/ipykernel/__main__.py:1: SettingWithCopyWarning: \n",
      "A value is trying to be set on a copy of a slice from a DataFrame.\n",
      "Try using .loc[row_indexer,col_indexer] = value instead\n",
      "\n",
      "See the the caveats in the documentation: http://pandas.pydata.org/pandas-docs/stable/indexing.html#indexing-view-versus-copy\n",
      "  if __name__ == '__main__':\n"
     ]
    }
   ],
   "source": [
    "d['clusters'] = cluster_list"
   ]
  },
  {
   "cell_type": "markdown",
   "metadata": {},
   "source": [
    "#### Find subtag exemplars"
   ]
  },
  {
   "cell_type": "code",
   "execution_count": 13,
   "metadata": {
    "collapsed": true
   },
   "outputs": [],
   "source": [
    "# note that even for the same tag, we might have multiple exemplars"
   ]
  },
  {
   "cell_type": "code",
   "execution_count": 14,
   "metadata": {
    "collapsed": false
   },
   "outputs": [],
   "source": [
    "tag_exemplar_names = []\n",
    "subtag_exemplar_names = []\n",
    "tag_exemplar_vectors = []\n",
    "\n",
    "for i in range(len(d)):\n",
    "    tag = d.tag.loc[i]\n",
    "    subtags = d.clusters.loc[i]\n",
    "    tmp = df[df[tag]!=0] # subset to tag\n",
    "    tmp = tmp[tmp.columns[(tmp != 0).any()]] # eliminate zero cols\n",
    "    \n",
    "    for subtag in subtags:\n",
    "        subtmp = tmp[tmp[subtag]!=0]\n",
    "        exemplar_vector = np.mean(subtmp.iloc[:,1:].as_matrix(), axis=0)\n",
    "        \n",
    "        tag_exemplar_names.append(tag)\n",
    "        subtag_exemplar_names.append(subtag)\n",
    "        tag_exemplar_vectors.append(exemplar_vector)"
   ]
  },
  {
   "cell_type": "code",
   "execution_count": 15,
   "metadata": {
    "collapsed": true
   },
   "outputs": [],
   "source": [
    "exemplar_df = pd.DataFrame(tag_exemplar_names,columns=['tag'])\n",
    "exemplar_df['subtag'] = subtag_exemplar_names\n",
    "exemplar_df['vector'] = tag_exemplar_vectors"
   ]
  },
  {
   "cell_type": "markdown",
   "metadata": {},
   "source": [
    "### Big Loop"
   ]
  },
  {
   "cell_type": "markdown",
   "metadata": {},
   "source": [
    "A bit messy because images are in multiple clusters within the same plot, and also because I haven't tried to optimize this code. But it works."
   ]
  },
  {
   "cell_type": "code",
   "execution_count": 16,
   "metadata": {
    "collapsed": true
   },
   "outputs": [],
   "source": [
    "from sklearn.decomposition import RandomizedPCA as pca\n",
    "from sklearn.manifold import TSNE\n",
    "from PIL import Image,ImageDraw\n",
    "from shapely.geometry import Point"
   ]
  },
  {
   "cell_type": "code",
   "execution_count": 17,
   "metadata": {
    "collapsed": true
   },
   "outputs": [],
   "source": [
    "thumb_side = 96"
   ]
  },
  {
   "cell_type": "code",
   "execution_count": 18,
   "metadata": {
    "collapsed": false
   },
   "outputs": [],
   "source": [
    "def plot():\n",
    "    for w in range(len(subspace)):\n",
    "        exemplar = subspace.exemplar_point.loc[w]\n",
    "        subtag = subspace.subtag.loc[w]\n",
    "\n",
    "        idxs = []\n",
    "        for z in tmp.index:\n",
    "            if subtag in tmp.euclid.loc[z]:\n",
    "                idxs.append(z)\n",
    "        \n",
    "        candidates = tmp.loc[idxs,:]\n",
    "        candidates['val'] = [item[subtag] for item in candidates.euclid]\n",
    "        candidates.sort('val',ascending=True,inplace=True)\n",
    "        \n",
    "        if len(candidates) > 0:\n",
    "            best = candidates.iloc[0]\n",
    "            im = Image.open(best.local_path)\n",
    "            im.thumbnail((thumb_side,thumb_side),Image.ANTIALIAS)\n",
    "            closest_open = min(open_grid,key=lambda x: exemplar.distance(x))\n",
    "            x = int(closest_open.x) * thumb_side\n",
    "            y = int(closest_open.y) * thumb_side\n",
    "\n",
    "            canvas.paste(im,(x,y))\n",
    "            idx = tmp[tmp.local_path==best.local_path].index\n",
    "            tmp.drop(idx,inplace=True)\n",
    "            open_grid.remove(closest_open)"
   ]
  },
  {
   "cell_type": "code",
   "execution_count": 20,
   "metadata": {
    "collapsed": false
   },
   "outputs": [],
   "source": [
    "for i in range(len(d)): \n",
    "    tag = d.tag.loc[i]\n",
    "    subtags = d.clusters.loc[i]\n",
    "    tmp = df[df[tag]!=0] # subset to tag\n",
    "    tmp = tmp[tmp.columns[(tmp!=0).any()]] # eliminate zero cols\n",
    "    tmp.reset_index(drop=False,inplace=True) # we need the old index too\n",
    "    \n",
    "    # now to calculate Euclidean distance from each img in tmp to its exemplar(s)\n",
    "    euclid = []\n",
    "    exemplar_set = exemplar_df[exemplar_df.tag==tag]\n",
    "    exemplar_set.reset_index(drop=True,inplace=True)\n",
    "    \n",
    "    for j in range(len(tmp)):\n",
    "        euclid_dict = {}\n",
    "        entourages = [item for item in seq_list[tmp['index'].loc[j]] if item not in tags]\n",
    "        entourages = [item for item in entourages if item in subtags]\n",
    "        for entourage in entourages:\n",
    "            exemplar_vector = exemplar_set.vector[exemplar_set.subtag==entourage].values[0] # bc a Series\n",
    "            img_point = tmp.iloc[j,2:].as_matrix()\n",
    "            euclid_dict[entourage] = np.linalg.norm(img_point - exemplar_vector)\n",
    "        euclid.append(euclid_dict)\n",
    "    \n",
    "    tmp['euclid'] = euclid # now each image has a dict with all its euc dist from exemplars\n",
    "    \n",
    "    # running dim reduce on exemplars to get entourage locations    \n",
    "    model = TSNE(n_components=2)\n",
    "    X = np.vstack(exemplar_set.vector)\n",
    "    subspace = pd.DataFrame(model.fit_transform(X),columns=[\"x\",\"y\"])\n",
    "    \n",
    "    # flight and rank\n",
    "    subspace.sort('x',inplace=True)\n",
    "    subspace['flight'] = np.repeat(range(1,int(np.sqrt(num_subtags)+1)),int(np.sqrt(num_subtags)))\n",
    "\n",
    "    subspace.sort(['flight','y'],inplace=True)\n",
    "    subspace['rank'] = range(1, int(np.sqrt(num_subtags)+1)) * int(np.sqrt(num_subtags))\n",
    "\n",
    "    factor = int(round( 2 * np.sqrt( ( len(tmp) / (num_subtags * np.pi) ) + num_subtags ))) # serviceable\n",
    "    subspace['x_grid'] = subspace['flight'] * factor\n",
    "    subspace['y_grid'] = subspace['rank'] * factor\n",
    "    \n",
    "    # turn exemplar grid coords into shapely points\n",
    "    exemplar_point = []\n",
    "    for k in subspace.index: # note this is label indexing not positional\n",
    "        exemplar_point.append(Point(subspace.x_grid.loc[k],subspace.y_grid.loc[k]))\n",
    "    \n",
    "    subspace['exemplar_point'] = exemplar_point\n",
    "    \n",
    "    # add subtag names to subspace\n",
    "    subspace['subtag'] = exemplar_set.subtag\n",
    "    \n",
    "    # grid list, a list of every grid location\n",
    "    grid_side = int((np.sqrt(num_subtags) + 1)) * factor\n",
    "    x,y = range(grid_side) * grid_side, np.repeat(range(grid_side),grid_side) # reusing 'x' and 'y' here...\n",
    "    grid_list = pd.DataFrame(x,columns=['x'])\n",
    "    grid_list['y'] = y\n",
    "    \n",
    "    # make into shapely points\n",
    "    point = []\n",
    "    for u in range(len(grid_list)):\n",
    "        point.append(Point(grid_list.x.loc[u],grid_list.y.loc[u]))\n",
    "\n",
    "    grid_list['point'] = point\n",
    "    open_grid = list(grid_list.point) # the list we will maintain of remaining open grid points\n",
    "    \n",
    "    # plotting of exemplar words\n",
    "    px_w = thumb_side * grid_side\n",
    "    px_h = thumb_side * grid_side\n",
    "    canvas = Image.new('RGB',(px_w,px_h),(50,50,50))\n",
    "    \n",
    "    for subtag in subtags:\n",
    "        template = Image.new(\"RGB\", (thumb_side, thumb_side), (50,50,50))\n",
    "        draw = ImageDraw.Draw(template)\n",
    "        draw.text((5,thumb_side/2),subtag,fill=\"white\") # hard-coded the left edge...\n",
    "        plot_point = subspace.exemplar_point[subspace.subtag==subtag].values[0]\n",
    "        \n",
    "        x = subspace.x_grid[subspace.subtag==subtag] * thumb_side\n",
    "        y = subspace.y_grid[subspace.subtag==subtag] * thumb_side\n",
    "        \n",
    "        canvas.paste(template,(x,y))\n",
    "        \n",
    "        if plot_point in open_grid:\n",
    "            open_grid.remove(plot_point)\n",
    "        else:\n",
    "            print tag,subtag\n",
    "            \n",
    "    seq_list_subset = [seq_list[q] for q in tmp['index']]\n",
    "    seq_list_subset = [item for sublist in seq_list_subset for item in sublist]\n",
    "    seq_list_subset = [item for item in seq_list_subset if item not in tags]\n",
    "    counts = [item[1] for item in Counter(seq_list_subset).most_common(num_subtags)]\n",
    "    \n",
    "    iterations = max(counts)\n",
    "    \n",
    "    for v in range(iterations):\n",
    "        plot()\n",
    "        \n",
    "    canvas.save(DIR+tag+\"_\"+str(factor)+\".png\")"
   ]
  },
  {
   "cell_type": "code",
   "execution_count": null,
   "metadata": {
    "collapsed": true
   },
   "outputs": [],
   "source": []
  },
  {
   "cell_type": "code",
   "execution_count": null,
   "metadata": {
    "collapsed": true
   },
   "outputs": [],
   "source": []
  },
  {
   "cell_type": "code",
   "execution_count": null,
   "metadata": {
    "collapsed": true
   },
   "outputs": [],
   "source": []
  },
  {
   "cell_type": "code",
   "execution_count": null,
   "metadata": {
    "collapsed": false
   },
   "outputs": [],
   "source": [
    "'''\n",
    "# setting up the grid\n",
    "num_bins = int(round( np.sqrt(len(tmp)) * fill_factor )) # what % of the square should be filled?\n",
    "\n",
    "# adding in some extremes to push the edges out\n",
    "spacer = np.std(subspace.x) # standard deviation in x; should be similar in y bc tsne pretty symmetrical\n",
    "x = [subspace.x.min() - spacer,subspace.x.max() + spacer]\n",
    "y = [subspace.y.min() - spacer,subspace.y.max() + spacer]\n",
    "\n",
    "tmpdf = pd.DataFrame(x,columns=[\"x\"])\n",
    "tmpdf[\"y\"] = y\n",
    "subspace = subspace.append(tmpdf)\n",
    "\n",
    "# binning exemplar coordinates\n",
    "subspace['x_bin'] = pd.cut(subspace['x'],num_bins,labels=False)\n",
    "subspace['y_bin'] = pd.cut(subspace['y'],num_bins,labels=False)\n",
    "\n",
    "# removing grid expanders\n",
    "subspace = subspace[:len(subtags)]\n",
    "\n",
    "# now to expand the grid by simple multiplication\n",
    "subspace[\"x_grid\"] = subspace.x_bin * expansion_factor\n",
    "subspace[\"y_grid\"] = subspace.y_bin * expansion_factor\n",
    "'''"
   ]
  },
  {
   "cell_type": "code",
   "execution_count": null,
   "metadata": {
    "collapsed": true
   },
   "outputs": [],
   "source": []
  },
  {
   "cell_type": "code",
   "execution_count": null,
   "metadata": {
    "collapsed": false
   },
   "outputs": [],
   "source": [
    "#print iterations, num_bins, subtag, plot_point, tag"
   ]
  },
  {
   "cell_type": "code",
   "execution_count": null,
   "metadata": {
    "collapsed": true
   },
   "outputs": [],
   "source": []
  },
  {
   "cell_type": "markdown",
   "metadata": {},
   "source": [
    "#### Leftover from calculating average rank"
   ]
  },
  {
   "cell_type": "code",
   "execution_count": null,
   "metadata": {
    "collapsed": true
   },
   "outputs": [],
   "source": [
    "\"\"\"\n",
    "avg_rank = []\n",
    "for tag in list(tag_counts['tag']):\n",
    "    tmp = []\n",
    "    for seq in seq_list:\n",
    "        if tag in seq:\n",
    "            tmp.append(int(seq.index(tag)))\n",
    "    avg_rank.append(np.mean(tmp))\n",
    "    \n",
    "\"\"\""
   ]
  },
  {
   "cell_type": "code",
   "execution_count": null,
   "metadata": {
    "collapsed": true
   },
   "outputs": [],
   "source": [
    "#tag_counts['avg_rank'] = avg_rank"
   ]
  },
  {
   "cell_type": "code",
   "execution_count": null,
   "metadata": {
    "collapsed": true
   },
   "outputs": [],
   "source": [
    "#tag_counts.to_csv(\"./tags_counts_rank.csv\")"
   ]
  }
 ],
 "metadata": {
  "kernelspec": {
   "display_name": "Python 2",
   "language": "python",
   "name": "python2"
  },
  "language_info": {
   "codemirror_mode": {
    "name": "ipython",
    "version": 2
   },
   "file_extension": ".py",
   "mimetype": "text/x-python",
   "name": "python",
   "nbconvert_exporter": "python",
   "pygments_lexer": "ipython2",
   "version": "2.7.10"
  }
 },
 "nbformat": 4,
 "nbformat_minor": 0
}

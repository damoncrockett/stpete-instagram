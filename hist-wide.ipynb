{
 "cells": [
  {
   "cell_type": "code",
   "execution_count": 5,
   "metadata": {
    "collapsed": true
   },
   "outputs": [],
   "source": [
    "import pandas as pd\n",
    "import numpy as np\n",
    "from PIL import Image, ImageDraw"
   ]
  },
  {
   "cell_type": "code",
   "execution_count": 6,
   "metadata": {
    "collapsed": true
   },
   "outputs": [],
   "source": [
    "d = pd.read_csv(\"./X.csv\")"
   ]
  },
  {
   "cell_type": "code",
   "execution_count": 7,
   "metadata": {
    "collapsed": true
   },
   "outputs": [],
   "source": [
    "tags = d.columns[1:]"
   ]
  },
  {
   "cell_type": "code",
   "execution_count": 8,
   "metadata": {
    "collapsed": true
   },
   "outputs": [],
   "source": [
    "DIR = \"/Users/damoncrockett/Desktop/stpete/viz/hist-wide/\""
   ]
  },
  {
   "cell_type": "code",
   "execution_count": 9,
   "metadata": {
    "collapsed": true
   },
   "outputs": [],
   "source": [
    "thumb_side = 128"
   ]
  },
  {
   "cell_type": "code",
   "execution_count": 10,
   "metadata": {
    "collapsed": true
   },
   "outputs": [],
   "source": [
    "bin_list = np.arange(0.5,1.01,0.1)"
   ]
  },
  {
   "cell_type": "code",
   "execution_count": 11,
   "metadata": {
    "collapsed": false
   },
   "outputs": [
    {
     "name": "stderr",
     "output_type": "stream",
     "text": [
      "/Library/Python/2.7/site-packages/ipykernel/__main__.py:6: SettingWithCopyWarning: \n",
      "A value is trying to be set on a copy of a slice from a DataFrame.\n",
      "Try using .loc[row_indexer,col_indexer] = value instead\n",
      "\n",
      "See the the caveats in the documentation: http://pandas.pydata.org/pandas-docs/stable/indexing.html#indexing-view-versus-copy\n"
     ]
    }
   ],
   "source": [
    "for tag in tags:\n",
    "    df = d[d[tag]!=0]\n",
    "    if len(df) > 100:\n",
    "        df = df.sample(n=100)\n",
    "    \n",
    "    df['x_bin'] = pd.cut(df[tag],bin_list,labels=False)\n",
    "    bin_max = df.groupby('x_bin').size().max()\n",
    "    \n",
    "    px_w = thumb_side * bin_max\n",
    "    px_h = thumb_side * ( len(bin_list) - 1 )\n",
    "    \n",
    "    canvas = Image.new('RGB',(px_w,px_h),(50,50,50))\n",
    "    \n",
    "    bins = list(set(list(df.x_bin)))\n",
    "    \n",
    "    for item in bins:\n",
    "        tmp = df[df.x_bin==item]\n",
    "        tmp = tmp.sort(tag,ascending=False)\n",
    "        tmp.reset_index(drop=True,inplace=True)\n",
    "        \n",
    "        y_coord = thumb_side * item\n",
    "        x_coord = 0\n",
    "        \n",
    "        for i in range(len(tmp)):\n",
    "            im = Image.open(tmp.local_path.loc[i])\n",
    "            im.thumbnail((thumb_side,thumb_side),Image.ANTIALIAS)\n",
    "            \n",
    "            draw = ImageDraw.Draw(im)\n",
    "            draw.text((5,5),str(tmp[tag].loc[i]),fill=\"white\")\n",
    "            \n",
    "            canvas.paste(im,(x_coord,y_coord))\n",
    "            x_coord = x_coord + thumb_side\n",
    "    \n",
    "    canvas.save(DIR+tag+\".png\")"
   ]
  },
  {
   "cell_type": "code",
   "execution_count": null,
   "metadata": {
    "collapsed": true
   },
   "outputs": [],
   "source": []
  }
 ],
 "metadata": {
  "kernelspec": {
   "display_name": "Python 2",
   "language": "python",
   "name": "python2"
  },
  "language_info": {
   "codemirror_mode": {
    "name": "ipython",
    "version": 2
   },
   "file_extension": ".py",
   "mimetype": "text/x-python",
   "name": "python",
   "nbconvert_exporter": "python",
   "pygments_lexer": "ipython2",
   "version": "2.7.10"
  }
 },
 "nbformat": 4,
 "nbformat_minor": 0
}
